{
 "cells": [
  {
   "cell_type": "markdown",
   "id": "31fb15e3",
   "metadata": {
    "papermill": {
     "duration": 0.009943,
     "end_time": "2024-08-07T04:56:36.398476",
     "exception": false,
     "start_time": "2024-08-07T04:56:36.388533",
     "status": "completed"
    },
    "tags": []
   },
   "source": [
    "# COVID 19 PANDEMIC ANALYSIS"
   ]
  },
  {
   "cell_type": "code",
   "execution_count": 2,
   "id": "09cacde7",
   "metadata": {
    "execution": {
     "iopub.execute_input": "2024-08-07T04:56:36.417950Z",
     "iopub.status.busy": "2024-08-07T04:56:36.417503Z",
     "iopub.status.idle": "2024-08-07T04:56:38.896418Z",
     "shell.execute_reply": "2024-08-07T04:56:38.895158Z"
    },
    "papermill": {
     "duration": 2.491663,
     "end_time": "2024-08-07T04:56:38.899140",
     "exception": false,
     "start_time": "2024-08-07T04:56:36.407477",
     "status": "completed"
    },
    "tags": []
   },
   "outputs": [],
   "source": [
    "import numpy as np\n",
    "import pandas as pd\n",
    "import matplotlib.pyplot as plt\n",
    "import  seaborn as snb"
   ]
  },
  {
   "cell_type": "code",
   "execution_count": 3,
   "id": "0eafe651",
   "metadata": {
    "execution": {
     "iopub.execute_input": "2024-08-07T04:56:38.918545Z",
     "iopub.status.busy": "2024-08-07T04:56:38.918025Z",
     "iopub.status.idle": "2024-08-07T04:56:39.000486Z",
     "shell.execute_reply": "2024-08-07T04:56:38.999323Z"
    },
    "papermill": {
     "duration": 0.094725,
     "end_time": "2024-08-07T04:56:39.002787",
     "exception": false,
     "start_time": "2024-08-07T04:56:38.908062",
     "status": "completed"
    },
    "tags": []
   },
   "outputs": [
    {
     "data": {
      "text/html": [
       "<div>\n",
       "<style scoped>\n",
       "    .dataframe tbody tr th:only-of-type {\n",
       "        vertical-align: middle;\n",
       "    }\n",
       "\n",
       "    .dataframe tbody tr th {\n",
       "        vertical-align: top;\n",
       "    }\n",
       "\n",
       "    .dataframe thead th {\n",
       "        text-align: right;\n",
       "    }\n",
       "</style>\n",
       "<table border=\"1\" class=\"dataframe\">\n",
       "  <thead>\n",
       "    <tr style=\"text-align: right;\">\n",
       "      <th></th>\n",
       "      <th>Sno</th>\n",
       "      <th>Date</th>\n",
       "      <th>Time</th>\n",
       "      <th>State/UnionTerritory</th>\n",
       "      <th>ConfirmedIndianNational</th>\n",
       "      <th>ConfirmedForeignNational</th>\n",
       "      <th>Cured</th>\n",
       "      <th>Deaths</th>\n",
       "      <th>Confirmed</th>\n",
       "    </tr>\n",
       "  </thead>\n",
       "  <tbody>\n",
       "    <tr>\n",
       "      <th>0</th>\n",
       "      <td>1</td>\n",
       "      <td>2020-01-30</td>\n",
       "      <td>6:00 PM</td>\n",
       "      <td>Kerala</td>\n",
       "      <td>1</td>\n",
       "      <td>0</td>\n",
       "      <td>0</td>\n",
       "      <td>0</td>\n",
       "      <td>1</td>\n",
       "    </tr>\n",
       "    <tr>\n",
       "      <th>1</th>\n",
       "      <td>2</td>\n",
       "      <td>2020-01-31</td>\n",
       "      <td>6:00 PM</td>\n",
       "      <td>Kerala</td>\n",
       "      <td>1</td>\n",
       "      <td>0</td>\n",
       "      <td>0</td>\n",
       "      <td>0</td>\n",
       "      <td>1</td>\n",
       "    </tr>\n",
       "    <tr>\n",
       "      <th>2</th>\n",
       "      <td>3</td>\n",
       "      <td>2020-02-01</td>\n",
       "      <td>6:00 PM</td>\n",
       "      <td>Kerala</td>\n",
       "      <td>2</td>\n",
       "      <td>0</td>\n",
       "      <td>0</td>\n",
       "      <td>0</td>\n",
       "      <td>2</td>\n",
       "    </tr>\n",
       "    <tr>\n",
       "      <th>3</th>\n",
       "      <td>4</td>\n",
       "      <td>2020-02-02</td>\n",
       "      <td>6:00 PM</td>\n",
       "      <td>Kerala</td>\n",
       "      <td>3</td>\n",
       "      <td>0</td>\n",
       "      <td>0</td>\n",
       "      <td>0</td>\n",
       "      <td>3</td>\n",
       "    </tr>\n",
       "    <tr>\n",
       "      <th>4</th>\n",
       "      <td>5</td>\n",
       "      <td>2020-02-03</td>\n",
       "      <td>6:00 PM</td>\n",
       "      <td>Kerala</td>\n",
       "      <td>3</td>\n",
       "      <td>0</td>\n",
       "      <td>0</td>\n",
       "      <td>0</td>\n",
       "      <td>3</td>\n",
       "    </tr>\n",
       "  </tbody>\n",
       "</table>\n",
       "</div>"
      ],
      "text/plain": [
       "   Sno        Date     Time State/UnionTerritory ConfirmedIndianNational  \\\n",
       "0    1  2020-01-30  6:00 PM               Kerala                       1   \n",
       "1    2  2020-01-31  6:00 PM               Kerala                       1   \n",
       "2    3  2020-02-01  6:00 PM               Kerala                       2   \n",
       "3    4  2020-02-02  6:00 PM               Kerala                       3   \n",
       "4    5  2020-02-03  6:00 PM               Kerala                       3   \n",
       "\n",
       "  ConfirmedForeignNational  Cured  Deaths  Confirmed  \n",
       "0                        0      0       0          1  \n",
       "1                        0      0       0          1  \n",
       "2                        0      0       0          2  \n",
       "3                        0      0       0          3  \n",
       "4                        0      0       0          3  "
      ]
     },
     "execution_count": 3,
     "metadata": {},
     "output_type": "execute_result"
    }
   ],
   "source": [
    "covid= pd.read_csv('covid_19_india.csv')\n",
    "covid.head()"
   ]
  },
  {
   "cell_type": "code",
   "execution_count": 4,
   "id": "fd0eaa86",
   "metadata": {},
   "outputs": [
    {
     "data": {
      "text/plain": [
       "(18110, 9)"
      ]
     },
     "execution_count": 4,
     "metadata": {},
     "output_type": "execute_result"
    }
   ],
   "source": [
    "covid.shape"
   ]
  },
  {
   "cell_type": "code",
   "execution_count": 5,
   "id": "43c2e61b",
   "metadata": {
    "execution": {
     "iopub.execute_input": "2024-08-07T04:56:39.023951Z",
     "iopub.status.busy": "2024-08-07T04:56:39.023567Z",
     "iopub.status.idle": "2024-08-07T04:56:39.057435Z",
     "shell.execute_reply": "2024-08-07T04:56:39.055360Z"
    },
    "papermill": {
     "duration": 0.04878,
     "end_time": "2024-08-07T04:56:39.060534",
     "exception": false,
     "start_time": "2024-08-07T04:56:39.011754",
     "status": "completed"
    },
    "tags": []
   },
   "outputs": [
    {
     "name": "stdout",
     "output_type": "stream",
     "text": [
      "<class 'pandas.core.frame.DataFrame'>\n",
      "RangeIndex: 18110 entries, 0 to 18109\n",
      "Data columns (total 9 columns):\n",
      " #   Column                    Non-Null Count  Dtype \n",
      "---  ------                    --------------  ----- \n",
      " 0   Sno                       18110 non-null  int64 \n",
      " 1   Date                      18110 non-null  object\n",
      " 2   Time                      18110 non-null  object\n",
      " 3   State/UnionTerritory      18110 non-null  object\n",
      " 4   ConfirmedIndianNational   18110 non-null  object\n",
      " 5   ConfirmedForeignNational  18110 non-null  object\n",
      " 6   Cured                     18110 non-null  int64 \n",
      " 7   Deaths                    18110 non-null  int64 \n",
      " 8   Confirmed                 18110 non-null  int64 \n",
      "dtypes: int64(4), object(5)\n",
      "memory usage: 1.2+ MB\n"
     ]
    }
   ],
   "source": [
    "covid.info()"
   ]
  },
  {
   "cell_type": "code",
   "execution_count": 6,
   "id": "ea5ef609",
   "metadata": {
    "execution": {
     "iopub.execute_input": "2024-08-07T04:56:39.082969Z",
     "iopub.status.busy": "2024-08-07T04:56:39.082613Z",
     "iopub.status.idle": "2024-08-07T04:56:39.096063Z",
     "shell.execute_reply": "2024-08-07T04:56:39.094945Z"
    },
    "papermill": {
     "duration": 0.027764,
     "end_time": "2024-08-07T04:56:39.098436",
     "exception": false,
     "start_time": "2024-08-07T04:56:39.070672",
     "status": "completed"
    },
    "tags": []
   },
   "outputs": [
    {
     "data": {
      "text/plain": [
       "Sno                         0\n",
       "Date                        0\n",
       "Time                        0\n",
       "State/UnionTerritory        0\n",
       "ConfirmedIndianNational     0\n",
       "ConfirmedForeignNational    0\n",
       "Cured                       0\n",
       "Deaths                      0\n",
       "Confirmed                   0\n",
       "dtype: int64"
      ]
     },
     "execution_count": 6,
     "metadata": {},
     "output_type": "execute_result"
    }
   ],
   "source": [
    "covid.isnull().sum()"
   ]
  },
  {
   "cell_type": "code",
   "execution_count": 7,
   "id": "92524c7d",
   "metadata": {},
   "outputs": [
    {
     "data": {
      "text/html": [
       "<div>\n",
       "<style scoped>\n",
       "    .dataframe tbody tr th:only-of-type {\n",
       "        vertical-align: middle;\n",
       "    }\n",
       "\n",
       "    .dataframe tbody tr th {\n",
       "        vertical-align: top;\n",
       "    }\n",
       "\n",
       "    .dataframe thead th {\n",
       "        text-align: right;\n",
       "    }\n",
       "</style>\n",
       "<table border=\"1\" class=\"dataframe\">\n",
       "  <thead>\n",
       "    <tr style=\"text-align: right;\">\n",
       "      <th></th>\n",
       "      <th>Sno</th>\n",
       "      <th>Date</th>\n",
       "      <th>Time</th>\n",
       "      <th>State/UnionTerritory</th>\n",
       "      <th>ConfirmedIndianNational</th>\n",
       "      <th>ConfirmedForeignNational</th>\n",
       "      <th>Cured</th>\n",
       "      <th>Deaths</th>\n",
       "      <th>Confirmed</th>\n",
       "    </tr>\n",
       "  </thead>\n",
       "  <tbody>\n",
       "    <tr>\n",
       "      <th>0</th>\n",
       "      <td>1</td>\n",
       "      <td>2020-01-30</td>\n",
       "      <td>6:00 PM</td>\n",
       "      <td>Kerala</td>\n",
       "      <td>1</td>\n",
       "      <td>0</td>\n",
       "      <td>0</td>\n",
       "      <td>0</td>\n",
       "      <td>1</td>\n",
       "    </tr>\n",
       "    <tr>\n",
       "      <th>1</th>\n",
       "      <td>2</td>\n",
       "      <td>2020-01-31</td>\n",
       "      <td>6:00 PM</td>\n",
       "      <td>Kerala</td>\n",
       "      <td>1</td>\n",
       "      <td>0</td>\n",
       "      <td>0</td>\n",
       "      <td>0</td>\n",
       "      <td>1</td>\n",
       "    </tr>\n",
       "    <tr>\n",
       "      <th>2</th>\n",
       "      <td>3</td>\n",
       "      <td>2020-02-01</td>\n",
       "      <td>6:00 PM</td>\n",
       "      <td>Kerala</td>\n",
       "      <td>2</td>\n",
       "      <td>0</td>\n",
       "      <td>0</td>\n",
       "      <td>0</td>\n",
       "      <td>2</td>\n",
       "    </tr>\n",
       "    <tr>\n",
       "      <th>3</th>\n",
       "      <td>4</td>\n",
       "      <td>2020-02-02</td>\n",
       "      <td>6:00 PM</td>\n",
       "      <td>Kerala</td>\n",
       "      <td>3</td>\n",
       "      <td>0</td>\n",
       "      <td>0</td>\n",
       "      <td>0</td>\n",
       "      <td>3</td>\n",
       "    </tr>\n",
       "    <tr>\n",
       "      <th>4</th>\n",
       "      <td>5</td>\n",
       "      <td>2020-02-03</td>\n",
       "      <td>6:00 PM</td>\n",
       "      <td>Kerala</td>\n",
       "      <td>3</td>\n",
       "      <td>0</td>\n",
       "      <td>0</td>\n",
       "      <td>0</td>\n",
       "      <td>3</td>\n",
       "    </tr>\n",
       "    <tr>\n",
       "      <th>...</th>\n",
       "      <td>...</td>\n",
       "      <td>...</td>\n",
       "      <td>...</td>\n",
       "      <td>...</td>\n",
       "      <td>...</td>\n",
       "      <td>...</td>\n",
       "      <td>...</td>\n",
       "      <td>...</td>\n",
       "      <td>...</td>\n",
       "    </tr>\n",
       "    <tr>\n",
       "      <th>18105</th>\n",
       "      <td>18106</td>\n",
       "      <td>2021-08-11</td>\n",
       "      <td>8:00 AM</td>\n",
       "      <td>Telangana</td>\n",
       "      <td>-</td>\n",
       "      <td>-</td>\n",
       "      <td>638410</td>\n",
       "      <td>3831</td>\n",
       "      <td>650353</td>\n",
       "    </tr>\n",
       "    <tr>\n",
       "      <th>18106</th>\n",
       "      <td>18107</td>\n",
       "      <td>2021-08-11</td>\n",
       "      <td>8:00 AM</td>\n",
       "      <td>Tripura</td>\n",
       "      <td>-</td>\n",
       "      <td>-</td>\n",
       "      <td>77811</td>\n",
       "      <td>773</td>\n",
       "      <td>80660</td>\n",
       "    </tr>\n",
       "    <tr>\n",
       "      <th>18107</th>\n",
       "      <td>18108</td>\n",
       "      <td>2021-08-11</td>\n",
       "      <td>8:00 AM</td>\n",
       "      <td>Uttarakhand</td>\n",
       "      <td>-</td>\n",
       "      <td>-</td>\n",
       "      <td>334650</td>\n",
       "      <td>7368</td>\n",
       "      <td>342462</td>\n",
       "    </tr>\n",
       "    <tr>\n",
       "      <th>18108</th>\n",
       "      <td>18109</td>\n",
       "      <td>2021-08-11</td>\n",
       "      <td>8:00 AM</td>\n",
       "      <td>Uttar Pradesh</td>\n",
       "      <td>-</td>\n",
       "      <td>-</td>\n",
       "      <td>1685492</td>\n",
       "      <td>22775</td>\n",
       "      <td>1708812</td>\n",
       "    </tr>\n",
       "    <tr>\n",
       "      <th>18109</th>\n",
       "      <td>18110</td>\n",
       "      <td>2021-08-11</td>\n",
       "      <td>8:00 AM</td>\n",
       "      <td>West Bengal</td>\n",
       "      <td>-</td>\n",
       "      <td>-</td>\n",
       "      <td>1506532</td>\n",
       "      <td>18252</td>\n",
       "      <td>1534999</td>\n",
       "    </tr>\n",
       "  </tbody>\n",
       "</table>\n",
       "<p>18110 rows × 9 columns</p>\n",
       "</div>"
      ],
      "text/plain": [
       "         Sno        Date     Time State/UnionTerritory  \\\n",
       "0          1  2020-01-30  6:00 PM               Kerala   \n",
       "1          2  2020-01-31  6:00 PM               Kerala   \n",
       "2          3  2020-02-01  6:00 PM               Kerala   \n",
       "3          4  2020-02-02  6:00 PM               Kerala   \n",
       "4          5  2020-02-03  6:00 PM               Kerala   \n",
       "...      ...         ...      ...                  ...   \n",
       "18105  18106  2021-08-11  8:00 AM            Telangana   \n",
       "18106  18107  2021-08-11  8:00 AM              Tripura   \n",
       "18107  18108  2021-08-11  8:00 AM          Uttarakhand   \n",
       "18108  18109  2021-08-11  8:00 AM        Uttar Pradesh   \n",
       "18109  18110  2021-08-11  8:00 AM          West Bengal   \n",
       "\n",
       "      ConfirmedIndianNational ConfirmedForeignNational    Cured  Deaths  \\\n",
       "0                           1                        0        0       0   \n",
       "1                           1                        0        0       0   \n",
       "2                           2                        0        0       0   \n",
       "3                           3                        0        0       0   \n",
       "4                           3                        0        0       0   \n",
       "...                       ...                      ...      ...     ...   \n",
       "18105                       -                        -   638410    3831   \n",
       "18106                       -                        -    77811     773   \n",
       "18107                       -                        -   334650    7368   \n",
       "18108                       -                        -  1685492   22775   \n",
       "18109                       -                        -  1506532   18252   \n",
       "\n",
       "       Confirmed  \n",
       "0              1  \n",
       "1              1  \n",
       "2              2  \n",
       "3              3  \n",
       "4              3  \n",
       "...          ...  \n",
       "18105     650353  \n",
       "18106      80660  \n",
       "18107     342462  \n",
       "18108    1708812  \n",
       "18109    1534999  \n",
       "\n",
       "[18110 rows x 9 columns]"
      ]
     },
     "execution_count": 7,
     "metadata": {},
     "output_type": "execute_result"
    }
   ],
   "source": [
    "covid.dropna()\n",
    "covid.drop_duplicates()"
   ]
  },
  {
   "cell_type": "code",
   "execution_count": 8,
   "id": "72ae0d4c",
   "metadata": {
    "execution": {
     "iopub.execute_input": "2024-08-07T04:56:39.119148Z",
     "iopub.status.busy": "2024-08-07T04:56:39.118782Z",
     "iopub.status.idle": "2024-08-07T04:56:39.135904Z",
     "shell.execute_reply": "2024-08-07T04:56:39.133899Z"
    },
    "papermill": {
     "duration": 0.031968,
     "end_time": "2024-08-07T04:56:39.139651",
     "exception": false,
     "start_time": "2024-08-07T04:56:39.107683",
     "status": "completed"
    },
    "tags": []
   },
   "outputs": [
    {
     "data": {
      "text/html": [
       "<div>\n",
       "<style scoped>\n",
       "    .dataframe tbody tr th:only-of-type {\n",
       "        vertical-align: middle;\n",
       "    }\n",
       "\n",
       "    .dataframe tbody tr th {\n",
       "        vertical-align: top;\n",
       "    }\n",
       "\n",
       "    .dataframe thead th {\n",
       "        text-align: right;\n",
       "    }\n",
       "</style>\n",
       "<table border=\"1\" class=\"dataframe\">\n",
       "  <thead>\n",
       "    <tr style=\"text-align: right;\">\n",
       "      <th></th>\n",
       "      <th>Sno</th>\n",
       "      <th>Date</th>\n",
       "      <th>Time</th>\n",
       "      <th>state</th>\n",
       "      <th>confirm_india</th>\n",
       "      <th>confirm_foreign</th>\n",
       "      <th>Cured</th>\n",
       "      <th>Deaths</th>\n",
       "      <th>Confirmed</th>\n",
       "    </tr>\n",
       "  </thead>\n",
       "  <tbody>\n",
       "    <tr>\n",
       "      <th>0</th>\n",
       "      <td>1</td>\n",
       "      <td>2020-01-30</td>\n",
       "      <td>6:00 PM</td>\n",
       "      <td>Kerala</td>\n",
       "      <td>1</td>\n",
       "      <td>0</td>\n",
       "      <td>0</td>\n",
       "      <td>0</td>\n",
       "      <td>1</td>\n",
       "    </tr>\n",
       "    <tr>\n",
       "      <th>1</th>\n",
       "      <td>2</td>\n",
       "      <td>2020-01-31</td>\n",
       "      <td>6:00 PM</td>\n",
       "      <td>Kerala</td>\n",
       "      <td>1</td>\n",
       "      <td>0</td>\n",
       "      <td>0</td>\n",
       "      <td>0</td>\n",
       "      <td>1</td>\n",
       "    </tr>\n",
       "    <tr>\n",
       "      <th>2</th>\n",
       "      <td>3</td>\n",
       "      <td>2020-02-01</td>\n",
       "      <td>6:00 PM</td>\n",
       "      <td>Kerala</td>\n",
       "      <td>2</td>\n",
       "      <td>0</td>\n",
       "      <td>0</td>\n",
       "      <td>0</td>\n",
       "      <td>2</td>\n",
       "    </tr>\n",
       "    <tr>\n",
       "      <th>3</th>\n",
       "      <td>4</td>\n",
       "      <td>2020-02-02</td>\n",
       "      <td>6:00 PM</td>\n",
       "      <td>Kerala</td>\n",
       "      <td>3</td>\n",
       "      <td>0</td>\n",
       "      <td>0</td>\n",
       "      <td>0</td>\n",
       "      <td>3</td>\n",
       "    </tr>\n",
       "    <tr>\n",
       "      <th>4</th>\n",
       "      <td>5</td>\n",
       "      <td>2020-02-03</td>\n",
       "      <td>6:00 PM</td>\n",
       "      <td>Kerala</td>\n",
       "      <td>3</td>\n",
       "      <td>0</td>\n",
       "      <td>0</td>\n",
       "      <td>0</td>\n",
       "      <td>3</td>\n",
       "    </tr>\n",
       "  </tbody>\n",
       "</table>\n",
       "</div>"
      ],
      "text/plain": [
       "   Sno        Date     Time   state confirm_india confirm_foreign  Cured  \\\n",
       "0    1  2020-01-30  6:00 PM  Kerala             1               0      0   \n",
       "1    2  2020-01-31  6:00 PM  Kerala             1               0      0   \n",
       "2    3  2020-02-01  6:00 PM  Kerala             2               0      0   \n",
       "3    4  2020-02-02  6:00 PM  Kerala             3               0      0   \n",
       "4    5  2020-02-03  6:00 PM  Kerala             3               0      0   \n",
       "\n",
       "   Deaths  Confirmed  \n",
       "0       0          1  \n",
       "1       0          1  \n",
       "2       0          2  \n",
       "3       0          3  \n",
       "4       0          3  "
      ]
     },
     "execution_count": 8,
     "metadata": {},
     "output_type": "execute_result"
    }
   ],
   "source": [
    "covid.rename(columns={'ConfirmedIndianNational':'confirm_india',\"ConfirmedForeignNational\":'confirm_foreign',\n",
    "                      'State/UnionTerritory':'state'},inplace=True)\n",
    "covid.head()"
   ]
  },
  {
   "cell_type": "code",
   "execution_count": 9,
   "id": "54af4ae8",
   "metadata": {
    "execution": {
     "iopub.execute_input": "2024-08-07T04:56:39.162103Z",
     "iopub.status.busy": "2024-08-07T04:56:39.161706Z",
     "iopub.status.idle": "2024-08-07T04:56:39.194409Z",
     "shell.execute_reply": "2024-08-07T04:56:39.193194Z"
    },
    "papermill": {
     "duration": 0.047114,
     "end_time": "2024-08-07T04:56:39.197222",
     "exception": false,
     "start_time": "2024-08-07T04:56:39.150108",
     "status": "completed"
    },
    "tags": []
   },
   "outputs": [],
   "source": [
    "# DATATYPE CONVERSION\n",
    "covid['Date']=pd.to_datetime(covid['Date'],format=\"%Y-%m-%d\")\n",
    "\n",
    "# INDIA\n",
    "covid['confirm_india']=covid['confirm_india'].str.replace('-','0')\n",
    "covid['confirm_india']=covid['confirm_india'].astype(str).astype(int)\n",
    "\n",
    "#FROM ForienCountry\n",
    "covid['confirm_foreign']=covid['confirm_foreign'].str.replace('-','0')\n",
    "covid['confirm_foreign']=covid['confirm_foreign'].astype(str).astype(int)"
   ]
  },
  {
   "cell_type": "markdown",
   "id": "2d205df3",
   "metadata": {
    "papermill": {
     "duration": 0.009882,
     "end_time": "2024-08-07T04:56:39.216753",
     "exception": false,
     "start_time": "2024-08-07T04:56:39.206871",
     "status": "completed"
    },
    "tags": []
   },
   "source": [
    "---------------------------------"
   ]
  },
  {
   "cell_type": "markdown",
   "id": "bcbcabe0",
   "metadata": {
    "papermill": {
     "duration": 0.009792,
     "end_time": "2024-08-07T04:56:39.236508",
     "exception": false,
     "start_time": "2024-08-07T04:56:39.226716",
     "status": "completed"
    },
    "tags": []
   },
   "source": [
    "> # TO FIND PEOPLE AFFECTED BY COVID-19 IN MILLION BY STATES"
   ]
  },
  {
   "cell_type": "code",
   "execution_count": 10,
   "id": "78958a26",
   "metadata": {
    "execution": {
     "iopub.execute_input": "2024-08-07T04:56:39.256714Z",
     "iopub.status.busy": "2024-08-07T04:56:39.256316Z",
     "iopub.status.idle": "2024-08-07T04:56:39.276236Z",
     "shell.execute_reply": "2024-08-07T04:56:39.274008Z"
    },
    "papermill": {
     "duration": 0.032958,
     "end_time": "2024-08-07T04:56:39.278820",
     "exception": false,
     "start_time": "2024-08-07T04:56:39.245862",
     "status": "completed"
    },
    "tags": []
   },
   "outputs": [
    {
     "data": {
      "text/html": [
       "<div>\n",
       "<style scoped>\n",
       "    .dataframe tbody tr th:only-of-type {\n",
       "        vertical-align: middle;\n",
       "    }\n",
       "\n",
       "    .dataframe tbody tr th {\n",
       "        vertical-align: top;\n",
       "    }\n",
       "\n",
       "    .dataframe thead th {\n",
       "        text-align: right;\n",
       "    }\n",
       "</style>\n",
       "<table border=\"1\" class=\"dataframe\">\n",
       "  <thead>\n",
       "    <tr style=\"text-align: right;\">\n",
       "      <th></th>\n",
       "      <th>State</th>\n",
       "      <th>confirm-count in M</th>\n",
       "    </tr>\n",
       "  </thead>\n",
       "  <tbody>\n",
       "    <tr>\n",
       "      <th>0</th>\n",
       "      <td>Maharashtra</td>\n",
       "      <td>1121.49</td>\n",
       "    </tr>\n",
       "    <tr>\n",
       "      <th>1</th>\n",
       "      <td>Karnataka</td>\n",
       "      <td>485.97</td>\n",
       "    </tr>\n",
       "    <tr>\n",
       "      <th>2</th>\n",
       "      <td>Kerala</td>\n",
       "      <td>458.91</td>\n",
       "    </tr>\n",
       "    <tr>\n",
       "      <th>3</th>\n",
       "      <td>Tamil Nadu</td>\n",
       "      <td>431.93</td>\n",
       "    </tr>\n",
       "    <tr>\n",
       "      <th>4</th>\n",
       "      <td>Andhra Pradesh</td>\n",
       "      <td>392.43</td>\n",
       "    </tr>\n",
       "    <tr>\n",
       "      <th>5</th>\n",
       "      <td>Uttar Pradesh</td>\n",
       "      <td>312.63</td>\n",
       "    </tr>\n",
       "    <tr>\n",
       "      <th>6</th>\n",
       "      <td>Delhi</td>\n",
       "      <td>287.23</td>\n",
       "    </tr>\n",
       "    <tr>\n",
       "      <th>7</th>\n",
       "      <td>West Bengal</td>\n",
       "      <td>263.11</td>\n",
       "    </tr>\n",
       "    <tr>\n",
       "      <th>8</th>\n",
       "      <td>Chhattisgarh</td>\n",
       "      <td>163.78</td>\n",
       "    </tr>\n",
       "    <tr>\n",
       "      <th>9</th>\n",
       "      <td>Rajasthan</td>\n",
       "      <td>162.37</td>\n",
       "    </tr>\n",
       "    <tr>\n",
       "      <th>10</th>\n",
       "      <td>Odisha</td>\n",
       "      <td>160.13</td>\n",
       "    </tr>\n",
       "    <tr>\n",
       "      <th>11</th>\n",
       "      <td>Gujarat</td>\n",
       "      <td>143.42</td>\n",
       "    </tr>\n",
       "    <tr>\n",
       "      <th>12</th>\n",
       "      <td>Madhya Pradesh</td>\n",
       "      <td>135.63</td>\n",
       "    </tr>\n",
       "    <tr>\n",
       "      <th>13</th>\n",
       "      <td>Haryana</td>\n",
       "      <td>134.35</td>\n",
       "    </tr>\n",
       "    <tr>\n",
       "      <th>14</th>\n",
       "      <td>Bihar</td>\n",
       "      <td>132.23</td>\n",
       "    </tr>\n",
       "  </tbody>\n",
       "</table>\n",
       "</div>"
      ],
      "text/plain": [
       "             State  confirm-count in M\n",
       "0      Maharashtra             1121.49\n",
       "1        Karnataka              485.97\n",
       "2           Kerala              458.91\n",
       "3       Tamil Nadu              431.93\n",
       "4   Andhra Pradesh              392.43\n",
       "5    Uttar Pradesh              312.63\n",
       "6            Delhi              287.23\n",
       "7      West Bengal              263.11\n",
       "8     Chhattisgarh              163.78\n",
       "9        Rajasthan              162.37\n",
       "10          Odisha              160.13\n",
       "11         Gujarat              143.42\n",
       "12  Madhya Pradesh              135.63\n",
       "13         Haryana              134.35\n",
       "14           Bihar              132.23"
      ]
     },
     "execution_count": 10,
     "metadata": {},
     "output_type": "execute_result"
    }
   ],
   "source": [
    "confirm_case = covid.groupby('state')['Confirmed'].sum().rename('confirm-count in M').sort_values(ascending=False)\n",
    "confirm_case = round(confirm_case.rename_axis('State')/1000000 , 2).reset_index().head(15)\n",
    "confirm_case"
   ]
  },
  {
   "cell_type": "markdown",
   "id": "4484bd90",
   "metadata": {
    "papermill": {
     "duration": 0.009618,
     "end_time": "2024-08-07T04:56:39.298729",
     "exception": false,
     "start_time": "2024-08-07T04:56:39.289111",
     "status": "completed"
    },
    "tags": []
   },
   "source": [
    "___________________________________________________"
   ]
  },
  {
   "cell_type": "markdown",
   "id": "ba03372f",
   "metadata": {
    "papermill": {
     "duration": 0.009283,
     "end_time": "2024-08-07T04:56:39.317567",
     "exception": false,
     "start_time": "2024-08-07T04:56:39.308284",
     "status": "completed"
    },
    "tags": []
   },
   "source": [
    "> # TO PLOT CONFIRM CASES PER STATE"
   ]
  },
  {
   "cell_type": "code",
   "execution_count": 11,
   "id": "f21e05be",
   "metadata": {
    "execution": {
     "iopub.execute_input": "2024-08-07T04:56:39.338256Z",
     "iopub.status.busy": "2024-08-07T04:56:39.337825Z",
     "iopub.status.idle": "2024-08-07T04:56:39.849141Z",
     "shell.execute_reply": "2024-08-07T04:56:39.847773Z"
    },
    "papermill": {
     "duration": 0.524583,
     "end_time": "2024-08-07T04:56:39.851733",
     "exception": false,
     "start_time": "2024-08-07T04:56:39.327150",
     "status": "completed"
    },
    "tags": []
   },
   "outputs": [
    {
     "data": {
      "image/png": "[encoded data removed]",
      "text/plain": [
       "<Figure size 1200x700 with 1 Axes>"
      ]
     },
     "metadata": {},
     "output_type": "display_data"
    }
   ],
   "source": [
    "plt.figure(figsize=(12,7))\n",
    "snb.barplot(y='State',x='confirm-count in M',data=confirm_case,orient='h')  #SEABORN AS SNB\n",
    "plt.title(\"CONFIRM_CASE PER STATE\",fontsize=18)\n",
    "plt.show()"
   ]
  },
  {
   "cell_type": "markdown",
   "id": "3b736869",
   "metadata": {
    "papermill": {
     "duration": 0.009847,
     "end_time": "2024-08-07T04:56:39.872102",
     "exception": false,
     "start_time": "2024-08-07T04:56:39.862255",
     "status": "completed"
    },
    "tags": []
   },
   "source": [
    "---------------------"
   ]
  },
  {
   "cell_type": "markdown",
   "id": "8fee49e4",
   "metadata": {
    "papermill": {
     "duration": 0.009894,
     "end_time": "2024-08-07T04:56:39.892543",
     "exception": false,
     "start_time": "2024-08-07T04:56:39.882649",
     "status": "completed"
    },
    "tags": []
   },
   "source": [
    "> # Deaths per state"
   ]
  },
  {
   "cell_type": "code",
   "execution_count": 12,
   "id": "2215a585",
   "metadata": {
    "execution": {
     "iopub.execute_input": "2024-08-07T04:56:39.916341Z",
     "iopub.status.busy": "2024-08-07T04:56:39.915894Z",
     "iopub.status.idle": "2024-08-07T04:56:39.936299Z",
     "shell.execute_reply": "2024-08-07T04:56:39.934785Z"
    },
    "papermill": {
     "duration": 0.037483,
     "end_time": "2024-08-07T04:56:39.940345",
     "exception": false,
     "start_time": "2024-08-07T04:56:39.902862",
     "status": "completed"
    },
    "tags": []
   },
   "outputs": [
    {
     "data": {
      "text/html": [
       "<div>\n",
       "<style scoped>\n",
       "    .dataframe tbody tr th:only-of-type {\n",
       "        vertical-align: middle;\n",
       "    }\n",
       "\n",
       "    .dataframe tbody tr th {\n",
       "        vertical-align: top;\n",
       "    }\n",
       "\n",
       "    .dataframe thead th {\n",
       "        text-align: right;\n",
       "    }\n",
       "</style>\n",
       "<table border=\"1\" class=\"dataframe\">\n",
       "  <thead>\n",
       "    <tr style=\"text-align: right;\">\n",
       "      <th></th>\n",
       "      <th>state</th>\n",
       "      <th>death-count in M</th>\n",
       "    </tr>\n",
       "  </thead>\n",
       "  <tbody>\n",
       "    <tr>\n",
       "      <th>0</th>\n",
       "      <td>Maharashtra</td>\n",
       "      <td>23.74</td>\n",
       "    </tr>\n",
       "    <tr>\n",
       "      <th>1</th>\n",
       "      <td>Karnataka</td>\n",
       "      <td>6.05</td>\n",
       "    </tr>\n",
       "    <tr>\n",
       "      <th>2</th>\n",
       "      <td>Tamil Nadu</td>\n",
       "      <td>5.92</td>\n",
       "    </tr>\n",
       "    <tr>\n",
       "      <th>3</th>\n",
       "      <td>Delhi</td>\n",
       "      <td>4.94</td>\n",
       "    </tr>\n",
       "    <tr>\n",
       "      <th>4</th>\n",
       "      <td>Uttar Pradesh</td>\n",
       "      <td>4.14</td>\n",
       "    </tr>\n",
       "    <tr>\n",
       "      <th>5</th>\n",
       "      <td>West Bengal</td>\n",
       "      <td>3.85</td>\n",
       "    </tr>\n",
       "    <tr>\n",
       "      <th>6</th>\n",
       "      <td>Andhra Pradesh</td>\n",
       "      <td>2.94</td>\n",
       "    </tr>\n",
       "    <tr>\n",
       "      <th>7</th>\n",
       "      <td>Punjab</td>\n",
       "      <td>2.79</td>\n",
       "    </tr>\n",
       "    <tr>\n",
       "      <th>8</th>\n",
       "      <td>Gujarat</td>\n",
       "      <td>2.22</td>\n",
       "    </tr>\n",
       "    <tr>\n",
       "      <th>9</th>\n",
       "      <td>Chhattisgarh</td>\n",
       "      <td>2.06</td>\n",
       "    </tr>\n",
       "    <tr>\n",
       "      <th>10</th>\n",
       "      <td>Kerala</td>\n",
       "      <td>1.89</td>\n",
       "    </tr>\n",
       "    <tr>\n",
       "      <th>11</th>\n",
       "      <td>Madhya Pradesh</td>\n",
       "      <td>1.78</td>\n",
       "    </tr>\n",
       "    <tr>\n",
       "      <th>12</th>\n",
       "      <td>Haryana</td>\n",
       "      <td>1.50</td>\n",
       "    </tr>\n",
       "    <tr>\n",
       "      <th>13</th>\n",
       "      <td>Rajasthan</td>\n",
       "      <td>1.47</td>\n",
       "    </tr>\n",
       "    <tr>\n",
       "      <th>14</th>\n",
       "      <td>Bihar</td>\n",
       "      <td>1.09</td>\n",
       "    </tr>\n",
       "  </tbody>\n",
       "</table>\n",
       "</div>"
      ],
      "text/plain": [
       "             state  death-count in M\n",
       "0      Maharashtra             23.74\n",
       "1        Karnataka              6.05\n",
       "2       Tamil Nadu              5.92\n",
       "3            Delhi              4.94\n",
       "4    Uttar Pradesh              4.14\n",
       "5      West Bengal              3.85\n",
       "6   Andhra Pradesh              2.94\n",
       "7           Punjab              2.79\n",
       "8          Gujarat              2.22\n",
       "9     Chhattisgarh              2.06\n",
       "10          Kerala              1.89\n",
       "11  Madhya Pradesh              1.78\n",
       "12         Haryana              1.50\n",
       "13       Rajasthan              1.47\n",
       "14           Bihar              1.09"
      ]
     },
     "execution_count": 12,
     "metadata": {},
     "output_type": "execute_result"
    }
   ],
   "source": [
    "\n",
    "death_case = covid.groupby('state')['Deaths'].sum().rename('death-count in M').sort_values(ascending=False)\n",
    "death_case = round(death_case.rename_axis('state')/1000000,2).reset_index().head(15)\n",
    "death_case"
   ]
  },
  {
   "cell_type": "markdown",
   "id": "f7674a0c",
   "metadata": {
    "papermill": {
     "duration": 0.012305,
     "end_time": "2024-08-07T04:56:39.963794",
     "exception": false,
     "start_time": "2024-08-07T04:56:39.951489",
     "status": "completed"
    },
    "tags": []
   },
   "source": [
    "---------------"
   ]
  },
  {
   "cell_type": "markdown",
   "id": "e9273f8f",
   "metadata": {
    "papermill": {
     "duration": 0.010944,
     "end_time": "2024-08-07T04:56:39.985870",
     "exception": false,
     "start_time": "2024-08-07T04:56:39.974926",
     "status": "completed"
    },
    "tags": []
   },
   "source": [
    "> # TO PLOT MORTALITY COUNT PER STATE IN MILLION"
   ]
  },
  {
   "cell_type": "code",
   "execution_count": 13,
   "id": "7f24fa21",
   "metadata": {
    "execution": {
     "iopub.execute_input": "2024-08-07T04:56:40.011571Z",
     "iopub.status.busy": "2024-08-07T04:56:40.011094Z",
     "iopub.status.idle": "2024-08-07T04:56:40.381086Z",
     "shell.execute_reply": "2024-08-07T04:56:40.379831Z"
    },
    "papermill": {
     "duration": 0.385548,
     "end_time": "2024-08-07T04:56:40.383372",
     "exception": false,
     "start_time": "2024-08-07T04:56:39.997824",
     "status": "completed"
    },
    "tags": []
   },
   "outputs": [
    {
     "data": {
      "image/png": "[encoded data removed]",
      "text/plain": [
       "<Figure size 1200x700 with 1 Axes>"
      ]
     },
     "metadata": {},
     "output_type": "display_data"
    }
   ],
   "source": [
    "plt.figure(figsize=(12,7))\n",
    "snb.barplot(y='state',x='death-count in M',data=death_case,orient='h',color='purple')\n",
    "plt.title(\"DEATH_CASE PER STATE\",fontsize=18)\n",
    "plt.show()"
   ]
  },
  {
   "cell_type": "markdown",
   "id": "4e36fd82",
   "metadata": {
    "papermill": {
     "duration": 0.011182,
     "end_time": "2024-08-07T04:56:40.405718",
     "exception": false,
     "start_time": "2024-08-07T04:56:40.394536",
     "status": "completed"
    },
    "tags": []
   },
   "source": [
    "---------------------"
   ]
  },
  {
   "cell_type": "markdown",
   "id": "020dd797",
   "metadata": {
    "papermill": {
     "duration": 0.010688,
     "end_time": "2024-08-07T04:56:40.427584",
     "exception": false,
     "start_time": "2024-08-07T04:56:40.416896",
     "status": "completed"
    },
    "tags": []
   },
   "source": [
    "> # TO FIND THE COUNT OF CASES CONFIRMED FROM FOREIGN TRAVELLING"
   ]
  },
  {
   "cell_type": "code",
   "execution_count": 14,
   "id": "a9300bdf",
   "metadata": {
    "execution": {
     "iopub.execute_input": "2024-08-07T04:56:40.451408Z",
     "iopub.status.busy": "2024-08-07T04:56:40.450970Z",
     "iopub.status.idle": "2024-08-07T04:56:40.465760Z",
     "shell.execute_reply": "2024-08-07T04:56:40.464584Z"
    },
    "papermill": {
     "duration": 0.029509,
     "end_time": "2024-08-07T04:56:40.468161",
     "exception": false,
     "start_time": "2024-08-07T04:56:40.438652",
     "status": "completed"
    },
    "tags": []
   },
   "outputs": [
    {
     "data": {
      "text/html": [
       "<div>\n",
       "<style scoped>\n",
       "    .dataframe tbody tr th:only-of-type {\n",
       "        vertical-align: middle;\n",
       "    }\n",
       "\n",
       "    .dataframe tbody tr th {\n",
       "        vertical-align: top;\n",
       "    }\n",
       "\n",
       "    .dataframe thead th {\n",
       "        text-align: right;\n",
       "    }\n",
       "</style>\n",
       "<table border=\"1\" class=\"dataframe\">\n",
       "  <thead>\n",
       "    <tr style=\"text-align: right;\">\n",
       "      <th></th>\n",
       "      <th>state</th>\n",
       "      <th>confirm_foreign</th>\n",
       "    </tr>\n",
       "  </thead>\n",
       "  <tbody>\n",
       "    <tr>\n",
       "      <th>0</th>\n",
       "      <td>Haryana</td>\n",
       "      <td>266</td>\n",
       "    </tr>\n",
       "    <tr>\n",
       "      <th>1</th>\n",
       "      <td>Rajasthan</td>\n",
       "      <td>135</td>\n",
       "    </tr>\n",
       "    <tr>\n",
       "      <th>2</th>\n",
       "      <td>Telengana</td>\n",
       "      <td>97</td>\n",
       "    </tr>\n",
       "    <tr>\n",
       "      <th>3</th>\n",
       "      <td>Kerala</td>\n",
       "      <td>69</td>\n",
       "    </tr>\n",
       "    <tr>\n",
       "      <th>4</th>\n",
       "      <td>Maharashtra</td>\n",
       "      <td>36</td>\n",
       "    </tr>\n",
       "    <tr>\n",
       "      <th>5</th>\n",
       "      <td>Tamil Nadu</td>\n",
       "      <td>26</td>\n",
       "    </tr>\n",
       "    <tr>\n",
       "      <th>6</th>\n",
       "      <td>Uttar Pradesh</td>\n",
       "      <td>17</td>\n",
       "    </tr>\n",
       "    <tr>\n",
       "      <th>7</th>\n",
       "      <td>Delhi</td>\n",
       "      <td>11</td>\n",
       "    </tr>\n",
       "    <tr>\n",
       "      <th>8</th>\n",
       "      <td>Uttarakhand</td>\n",
       "      <td>5</td>\n",
       "    </tr>\n",
       "    <tr>\n",
       "      <th>9</th>\n",
       "      <td>Gujarat</td>\n",
       "      <td>5</td>\n",
       "    </tr>\n",
       "  </tbody>\n",
       "</table>\n",
       "</div>"
      ],
      "text/plain": [
       "           state  confirm_foreign\n",
       "0        Haryana              266\n",
       "1      Rajasthan              135\n",
       "2      Telengana               97\n",
       "3         Kerala               69\n",
       "4    Maharashtra               36\n",
       "5     Tamil Nadu               26\n",
       "6  Uttar Pradesh               17\n",
       "7          Delhi               11\n",
       "8    Uttarakhand                5\n",
       "9        Gujarat                5"
      ]
     },
     "execution_count": 14,
     "metadata": {},
     "output_type": "execute_result"
    }
   ],
   "source": [
    "outside = covid.groupby('state')['confirm_foreign'].sum().sort_values(ascending=False).head(10)\n",
    "outside = outside.rename_axis('state').reset_index()\n",
    "outside"
   ]
  },
  {
   "cell_type": "markdown",
   "id": "f999fd69",
   "metadata": {
    "papermill": {
     "duration": 0.011025,
     "end_time": "2024-08-07T04:56:40.490610",
     "exception": false,
     "start_time": "2024-08-07T04:56:40.479585",
     "status": "completed"
    },
    "tags": []
   },
   "source": [
    "-------------------------------"
   ]
  },
  {
   "cell_type": "markdown",
   "id": "8ac162a4",
   "metadata": {
    "papermill": {
     "duration": 0.010903,
     "end_time": "2024-08-07T04:56:40.513060",
     "exception": false,
     "start_time": "2024-08-07T04:56:40.502157",
     "status": "completed"
    },
    "tags": []
   },
   "source": [
    "> # TO PLOT STATE WISE CASES DUE TO FOREIGN TRAVELING"
   ]
  },
  {
   "cell_type": "code",
   "execution_count": 15,
   "id": "4d2811fa",
   "metadata": {
    "execution": {
     "iopub.execute_input": "2024-08-07T04:56:40.538340Z",
     "iopub.status.busy": "2024-08-07T04:56:40.537866Z",
     "iopub.status.idle": "2024-08-07T04:56:40.835591Z",
     "shell.execute_reply": "2024-08-07T04:56:40.834474Z"
    },
    "papermill": {
     "duration": 0.313444,
     "end_time": "2024-08-07T04:56:40.838192",
     "exception": false,
     "start_time": "2024-08-07T04:56:40.524748",
     "status": "completed"
    },
    "tags": []
   },
   "outputs": [
    {
     "data": {
      "image/png": "[encoded data removed]",
      "text/plain": [
       "<Figure size 800x1000 with 1 Axes>"
      ]
     },
     "metadata": {},
     "output_type": "display_data"
    }
   ],
   "source": [
    "plt.figure(figsize=(8,10))\n",
    "plt.pie(outside['confirm_foreign'], labels=outside['state'], autopct='%1.1f%%', startangle=180)\n",
    "plt.title('STATE WISE PEOPLE AFFECTED BY COVID FROM FORIEGN COUNTRY',fontsize=20)\n",
    "plt.axis('equal')\n",
    "plt.show()"
   ]
  },
  {
   "cell_type": "markdown",
   "id": "655806a4",
   "metadata": {
    "papermill": {
     "duration": 0.012635,
     "end_time": "2024-08-07T04:56:40.863412",
     "exception": false,
     "start_time": "2024-08-07T04:56:40.850777",
     "status": "completed"
    },
    "tags": []
   },
   "source": [
    "----------------------"
   ]
  },
  {
   "cell_type": "markdown",
   "id": "a9d190d2",
   "metadata": {
    "papermill": {
     "duration": 0.012116,
     "end_time": "2024-08-07T04:56:40.888419",
     "exception": false,
     "start_time": "2024-08-07T04:56:40.876303",
     "status": "completed"
    },
    "tags": []
   },
   "source": [
    "> # TO FIND CURED CASES PER STATE"
   ]
  },
  {
   "cell_type": "code",
   "execution_count": 16,
   "id": "decd6e4b",
   "metadata": {
    "execution": {
     "iopub.execute_input": "2024-08-07T04:56:40.915017Z",
     "iopub.status.busy": "2024-08-07T04:56:40.914640Z",
     "iopub.status.idle": "2024-08-07T04:56:40.930958Z",
     "shell.execute_reply": "2024-08-07T04:56:40.929895Z"
    },
    "papermill": {
     "duration": 0.032428,
     "end_time": "2024-08-07T04:56:40.933331",
     "exception": false,
     "start_time": "2024-08-07T04:56:40.900903",
     "status": "completed"
    },
    "tags": []
   },
   "outputs": [
    {
     "data": {
      "text/html": [
       "<div>\n",
       "<style scoped>\n",
       "    .dataframe tbody tr th:only-of-type {\n",
       "        vertical-align: middle;\n",
       "    }\n",
       "\n",
       "    .dataframe tbody tr th {\n",
       "        vertical-align: top;\n",
       "    }\n",
       "\n",
       "    .dataframe thead th {\n",
       "        text-align: right;\n",
       "    }\n",
       "</style>\n",
       "<table border=\"1\" class=\"dataframe\">\n",
       "  <thead>\n",
       "    <tr style=\"text-align: right;\">\n",
       "      <th></th>\n",
       "      <th>state</th>\n",
       "      <th>cured-count in M</th>\n",
       "    </tr>\n",
       "  </thead>\n",
       "  <tbody>\n",
       "    <tr>\n",
       "      <th>0</th>\n",
       "      <td>Maharashtra</td>\n",
       "      <td>1018.77</td>\n",
       "    </tr>\n",
       "    <tr>\n",
       "      <th>1</th>\n",
       "      <td>Karnataka</td>\n",
       "      <td>441.84</td>\n",
       "    </tr>\n",
       "    <tr>\n",
       "      <th>2</th>\n",
       "      <td>Kerala</td>\n",
       "      <td>420.17</td>\n",
       "    </tr>\n",
       "    <tr>\n",
       "      <th>3</th>\n",
       "      <td>Tamil Nadu</td>\n",
       "      <td>404.10</td>\n",
       "    </tr>\n",
       "    <tr>\n",
       "      <th>4</th>\n",
       "      <td>Andhra Pradesh</td>\n",
       "      <td>370.43</td>\n",
       "    </tr>\n",
       "    <tr>\n",
       "      <th>5</th>\n",
       "      <td>Uttar Pradesh</td>\n",
       "      <td>291.48</td>\n",
       "    </tr>\n",
       "    <tr>\n",
       "      <th>6</th>\n",
       "      <td>Delhi</td>\n",
       "      <td>273.42</td>\n",
       "    </tr>\n",
       "    <tr>\n",
       "      <th>7</th>\n",
       "      <td>West Bengal</td>\n",
       "      <td>247.52</td>\n",
       "    </tr>\n",
       "    <tr>\n",
       "      <th>8</th>\n",
       "      <td>Chhattisgarh</td>\n",
       "      <td>151.61</td>\n",
       "    </tr>\n",
       "    <tr>\n",
       "      <th>9</th>\n",
       "      <td>Odisha</td>\n",
       "      <td>150.92</td>\n",
       "    </tr>\n",
       "    <tr>\n",
       "      <th>10</th>\n",
       "      <td>Rajasthan</td>\n",
       "      <td>150.36</td>\n",
       "    </tr>\n",
       "    <tr>\n",
       "      <th>11</th>\n",
       "      <td>Gujarat</td>\n",
       "      <td>132.49</td>\n",
       "    </tr>\n",
       "    <tr>\n",
       "      <th>12</th>\n",
       "      <td>Madhya Pradesh</td>\n",
       "      <td>126.72</td>\n",
       "    </tr>\n",
       "    <tr>\n",
       "      <th>13</th>\n",
       "      <td>Haryana</td>\n",
       "      <td>126.59</td>\n",
       "    </tr>\n",
       "    <tr>\n",
       "      <th>14</th>\n",
       "      <td>Bihar</td>\n",
       "      <td>125.12</td>\n",
       "    </tr>\n",
       "  </tbody>\n",
       "</table>\n",
       "</div>"
      ],
      "text/plain": [
       "             state  cured-count in M\n",
       "0      Maharashtra           1018.77\n",
       "1        Karnataka            441.84\n",
       "2           Kerala            420.17\n",
       "3       Tamil Nadu            404.10\n",
       "4   Andhra Pradesh            370.43\n",
       "5    Uttar Pradesh            291.48\n",
       "6            Delhi            273.42\n",
       "7      West Bengal            247.52\n",
       "8     Chhattisgarh            151.61\n",
       "9           Odisha            150.92\n",
       "10       Rajasthan            150.36\n",
       "11         Gujarat            132.49\n",
       "12  Madhya Pradesh            126.72\n",
       "13         Haryana            126.59\n",
       "14           Bihar            125.12"
      ]
     },
     "execution_count": 16,
     "metadata": {},
     "output_type": "execute_result"
    }
   ],
   "source": [
    "\n",
    "cured_case = covid.groupby('state')['Cured'].sum().rename('cured-count in M').sort_values(ascending=False)\n",
    "cured_case = round(cured_case.rename_axis('state')/1000000, 2).reset_index().head(15)\n",
    "cured_case"
   ]
  },
  {
   "cell_type": "markdown",
   "id": "c3f015f3",
   "metadata": {
    "papermill": {
     "duration": 0.012361,
     "end_time": "2024-08-07T04:56:40.958857",
     "exception": false,
     "start_time": "2024-08-07T04:56:40.946496",
     "status": "completed"
    },
    "tags": []
   },
   "source": [
    "------------------"
   ]
  },
  {
   "cell_type": "markdown",
   "id": "4adec403",
   "metadata": {
    "papermill": {
     "duration": 0.012339,
     "end_time": "2024-08-07T04:56:40.983918",
     "exception": false,
     "start_time": "2024-08-07T04:56:40.971579",
     "status": "completed"
    },
    "tags": []
   },
   "source": [
    "> # TO PLOT CURED CASES PER STATE"
   ]
  },
  {
   "cell_type": "code",
   "execution_count": 17,
   "id": "6ca74849",
   "metadata": {
    "execution": {
     "iopub.execute_input": "2024-08-07T04:56:41.011768Z",
     "iopub.status.busy": "2024-08-07T04:56:41.011366Z",
     "iopub.status.idle": "2024-08-07T04:56:41.380730Z",
     "shell.execute_reply": "2024-08-07T04:56:41.379529Z"
    },
    "papermill": {
     "duration": 0.386255,
     "end_time": "2024-08-07T04:56:41.383324",
     "exception": false,
     "start_time": "2024-08-07T04:56:40.997069",
     "status": "completed"
    },
    "tags": []
   },
   "outputs": [
    {
     "data": {
      "image/png": "[encoded data removed]",
      "text/plain": [
       "<Figure size 1200x700 with 1 Axes>"
      ]
     },
     "metadata": {},
     "output_type": "display_data"
    }
   ],
   "source": [
    "plt.figure(figsize=(12,7))\n",
    "snb.barplot(y='state',x='cured-count in M',data=cured_case,orient='h',color='blue')\n",
    "plt.title(\"CURED PER STATE\",fontsize=18)\n",
    "plt.show()"
   ]
  },
  {
   "cell_type": "markdown",
   "id": "3a8c78f8",
   "metadata": {
    "papermill": {
     "duration": 0.014332,
     "end_time": "2024-08-07T04:56:41.411051",
     "exception": false,
     "start_time": "2024-08-07T04:56:41.396719",
     "status": "completed"
    },
    "tags": []
   },
   "source": [
    "---------------------"
   ]
  },
  {
   "cell_type": "markdown",
   "id": "2fe9aa56",
   "metadata": {
    "papermill": {
     "duration": 0.014158,
     "end_time": "2024-08-07T04:56:41.439179",
     "exception": false,
     "start_time": "2024-08-07T04:56:41.425021",
     "status": "completed"
    },
    "tags": []
   },
   "source": [
    "> # TO FIND THE CONFIRMED CASES IN A STATE OVER TIME"
   ]
  },
  {
   "cell_type": "code",
   "execution_count": 18,
   "id": "44bd24e1",
   "metadata": {
    "execution": {
     "iopub.execute_input": "2024-08-07T04:56:41.527814Z",
     "iopub.status.busy": "2024-08-07T04:56:41.527434Z",
     "iopub.status.idle": "2024-08-07T04:56:41.554637Z",
     "shell.execute_reply": "2024-08-07T04:56:41.553432Z"
    },
    "papermill": {
     "duration": 0.103752,
     "end_time": "2024-08-07T04:56:41.557012",
     "exception": false,
     "start_time": "2024-08-07T04:56:41.453260",
     "status": "completed"
    },
    "tags": []
   },
   "outputs": [
    {
     "name": "stderr",
     "output_type": "stream",
     "text": [
      "C:\\Users\\hp\\AppData\\Local\\Temp\\ipykernel_7616\\2038987840.py:2: SettingWithCopyWarning: \n",
      "A value is trying to be set on a copy of a slice from a DataFrame.\n",
      "Try using .loc[row_indexer,col_indexer] = value instead\n",
      "\n",
      "See the caveats in the documentation: https://pandas.pydata.org/pandas-docs/stable/user_guide/indexing.html#returning-a-view-versus-a-copy\n",
      "  KA['month-year'] = KA['Date'].dt.strftime('%b-%y')\n"
     ]
    },
    {
     "data": {
      "text/html": [
       "<div>\n",
       "<style scoped>\n",
       "    .dataframe tbody tr th:only-of-type {\n",
       "        vertical-align: middle;\n",
       "    }\n",
       "\n",
       "    .dataframe tbody tr th {\n",
       "        vertical-align: top;\n",
       "    }\n",
       "\n",
       "    .dataframe thead th {\n",
       "        text-align: right;\n",
       "    }\n",
       "</style>\n",
       "<table border=\"1\" class=\"dataframe\">\n",
       "  <thead>\n",
       "    <tr style=\"text-align: right;\">\n",
       "      <th></th>\n",
       "      <th>month-year</th>\n",
       "      <th>Confirmed</th>\n",
       "    </tr>\n",
       "  </thead>\n",
       "  <tbody>\n",
       "    <tr>\n",
       "      <th>0</th>\n",
       "      <td>Apr-20</td>\n",
       "      <td>9382</td>\n",
       "    </tr>\n",
       "    <tr>\n",
       "      <th>1</th>\n",
       "      <td>Apr-21</td>\n",
       "      <td>34558639</td>\n",
       "    </tr>\n",
       "    <tr>\n",
       "      <th>2</th>\n",
       "      <td>Aug-20</td>\n",
       "      <td>6889574</td>\n",
       "    </tr>\n",
       "    <tr>\n",
       "      <th>3</th>\n",
       "      <td>Aug-21</td>\n",
       "      <td>32047133</td>\n",
       "    </tr>\n",
       "    <tr>\n",
       "      <th>4</th>\n",
       "      <td>Dec-20</td>\n",
       "      <td>27994899</td>\n",
       "    </tr>\n",
       "    <tr>\n",
       "      <th>5</th>\n",
       "      <td>Feb-21</td>\n",
       "      <td>26460582</td>\n",
       "    </tr>\n",
       "    <tr>\n",
       "      <th>6</th>\n",
       "      <td>Jan-21</td>\n",
       "      <td>28833752</td>\n",
       "    </tr>\n",
       "    <tr>\n",
       "      <th>7</th>\n",
       "      <td>Jul-20</td>\n",
       "      <td>1705708</td>\n",
       "    </tr>\n",
       "    <tr>\n",
       "      <th>8</th>\n",
       "      <td>Jul-21</td>\n",
       "      <td>86288853</td>\n",
       "    </tr>\n",
       "    <tr>\n",
       "      <th>9</th>\n",
       "      <td>Jun-20</td>\n",
       "      <td>225375</td>\n",
       "    </tr>\n",
       "    <tr>\n",
       "      <th>10</th>\n",
       "      <td>Jun-21</td>\n",
       "      <td>82689874</td>\n",
       "    </tr>\n",
       "    <tr>\n",
       "      <th>11</th>\n",
       "      <td>Mar-20</td>\n",
       "      <td>647</td>\n",
       "    </tr>\n",
       "    <tr>\n",
       "      <th>12</th>\n",
       "      <td>Mar-21</td>\n",
       "      <td>29905747</td>\n",
       "    </tr>\n",
       "    <tr>\n",
       "      <th>13</th>\n",
       "      <td>May-20</td>\n",
       "      <td>41184</td>\n",
       "    </tr>\n",
       "    <tr>\n",
       "      <th>14</th>\n",
       "      <td>May-21</td>\n",
       "      <td>65848708</td>\n",
       "    </tr>\n",
       "    <tr>\n",
       "      <th>15</th>\n",
       "      <td>Nov-20</td>\n",
       "      <td>25740356</td>\n",
       "    </tr>\n",
       "    <tr>\n",
       "      <th>16</th>\n",
       "      <td>Oct-20</td>\n",
       "      <td>22638497</td>\n",
       "    </tr>\n",
       "    <tr>\n",
       "      <th>17</th>\n",
       "      <td>Sep-20</td>\n",
       "      <td>14091783</td>\n",
       "    </tr>\n",
       "  </tbody>\n",
       "</table>\n",
       "</div>"
      ],
      "text/plain": [
       "   month-year  Confirmed\n",
       "0      Apr-20       9382\n",
       "1      Apr-21   34558639\n",
       "2      Aug-20    6889574\n",
       "3      Aug-21   32047133\n",
       "4      Dec-20   27994899\n",
       "5      Feb-21   26460582\n",
       "6      Jan-21   28833752\n",
       "7      Jul-20    1705708\n",
       "8      Jul-21   86288853\n",
       "9      Jun-20     225375\n",
       "10     Jun-21   82689874\n",
       "11     Mar-20        647\n",
       "12     Mar-21   29905747\n",
       "13     May-20      41184\n",
       "14     May-21   65848708\n",
       "15     Nov-20   25740356\n",
       "16     Oct-20   22638497\n",
       "17     Sep-20   14091783"
      ]
     },
     "execution_count": 18,
     "metadata": {},
     "output_type": "execute_result"
    }
   ],
   "source": [
    "KA=covid.query(\"state=='Karnataka'\")\n",
    "KA['month-year'] = KA['Date'].dt.strftime('%b-%y')\n",
    "KA = KA.groupby('month-year')['Confirmed'].sum()\n",
    "KA= KA.reset_index()\n",
    "KA\n"
   ]
  },
  {
   "cell_type": "markdown",
   "id": "89ecca97",
   "metadata": {
    "papermill": {
     "duration": 0.013513,
     "end_time": "2024-08-07T04:56:41.584145",
     "exception": false,
     "start_time": "2024-08-07T04:56:41.570632",
     "status": "completed"
    },
    "tags": []
   },
   "source": [
    "------------------------"
   ]
  },
  {
   "cell_type": "markdown",
   "id": "32dc122b",
   "metadata": {
    "papermill": {
     "duration": 0.015015,
     "end_time": "2024-08-07T04:56:41.612869",
     "exception": false,
     "start_time": "2024-08-07T04:56:41.597854",
     "status": "completed"
    },
    "tags": []
   },
   "source": [
    "> # TO PLOT THE CONFIRMED CASES IN A STATE BY (Year-Month)"
   ]
  },
  {
   "cell_type": "code",
   "execution_count": 19,
   "id": "e4fc9b4f",
   "metadata": {
    "execution": {
     "iopub.execute_input": "2024-08-07T04:56:41.644322Z",
     "iopub.status.busy": "2024-08-07T04:56:41.643912Z",
     "iopub.status.idle": "2024-08-07T04:56:41.975688Z",
     "shell.execute_reply": "2024-08-07T04:56:41.974572Z"
    },
    "papermill": {
     "duration": 0.350412,
     "end_time": "2024-08-07T04:56:41.977917",
     "exception": false,
     "start_time": "2024-08-07T04:56:41.627505",
     "status": "completed"
    },
    "tags": []
   },
   "outputs": [
    {
     "data": {
      "image/png": "[encoded data removed]",
      "text/plain": [
       "<Figure size 1200x500 with 1 Axes>"
      ]
     },
     "metadata": {},
     "output_type": "display_data"
    }
   ],
   "source": [
    "plt.figure(figsize=(12,5))\n",
    "plt.plot(KA['month-year'], KA['Confirmed'])\n",
    "plt.title('Confirm Cases by (Year-Month)',fontsize=20)\n",
    "plt.xlabel('Year-Month',fontsize=16)\n",
    "plt.ylabel('Confirm Cases',fontsize=16)\n",
    "plt.show()"
   ]
  },
  {
   "cell_type": "markdown",
   "id": "9582c5bc",
   "metadata": {
    "papermill": {
     "duration": 0.014477,
     "end_time": "2024-08-07T04:56:42.007138",
     "exception": false,
     "start_time": "2024-08-07T04:56:41.992661",
     "status": "completed"
    },
    "tags": []
   },
   "source": [
    "---------------------------------------------------"
   ]
  },
  {
   "cell_type": "markdown",
   "id": "c558afb2",
   "metadata": {
    "papermill": {
     "duration": 0.015023,
     "end_time": "2024-08-07T04:56:42.037631",
     "exception": false,
     "start_time": "2024-08-07T04:56:42.022608",
     "status": "completed"
    },
    "tags": []
   },
   "source": [
    "> # TO CALCULATE THE PERCENTAGE OF RECOVERY "
   ]
  },
  {
   "cell_type": "code",
   "execution_count": 20,
   "id": "d95a4239",
   "metadata": {
    "execution": {
     "iopub.execute_input": "2024-08-07T04:56:42.071349Z",
     "iopub.status.busy": "2024-08-07T04:56:42.070523Z",
     "iopub.status.idle": "2024-08-07T04:56:42.097762Z",
     "shell.execute_reply": "2024-08-07T04:56:42.096624Z"
    },
    "papermill": {
     "duration": 0.047815,
     "end_time": "2024-08-07T04:56:42.100314",
     "exception": false,
     "start_time": "2024-08-07T04:56:42.052499",
     "status": "completed"
    },
    "tags": []
   },
   "outputs": [
    {
     "data": {
      "text/html": [
       "<div>\n",
       "<style scoped>\n",
       "    .dataframe tbody tr th:only-of-type {\n",
       "        vertical-align: middle;\n",
       "    }\n",
       "\n",
       "    .dataframe tbody tr th {\n",
       "        vertical-align: top;\n",
       "    }\n",
       "\n",
       "    .dataframe thead th {\n",
       "        text-align: right;\n",
       "    }\n",
       "</style>\n",
       "<table border=\"1\" class=\"dataframe\">\n",
       "  <thead>\n",
       "    <tr style=\"text-align: right;\">\n",
       "      <th></th>\n",
       "      <th>state</th>\n",
       "      <th>Confirmed</th>\n",
       "      <th>Deaths</th>\n",
       "      <th>Cured</th>\n",
       "      <th>percentage of recover</th>\n",
       "    </tr>\n",
       "  </thead>\n",
       "  <tbody>\n",
       "    <tr>\n",
       "      <th>0</th>\n",
       "      <td>Maharashtra</td>\n",
       "      <td>1121491467</td>\n",
       "      <td>23737432</td>\n",
       "      <td>1018765039</td>\n",
       "      <td>90.84</td>\n",
       "    </tr>\n",
       "    <tr>\n",
       "      <th>1</th>\n",
       "      <td>Karnataka</td>\n",
       "      <td>485970693</td>\n",
       "      <td>6053762</td>\n",
       "      <td>441844360</td>\n",
       "      <td>90.92</td>\n",
       "    </tr>\n",
       "    <tr>\n",
       "      <th>2</th>\n",
       "      <td>Kerala</td>\n",
       "      <td>458906023</td>\n",
       "      <td>1888177</td>\n",
       "      <td>420174235</td>\n",
       "      <td>91.56</td>\n",
       "    </tr>\n",
       "    <tr>\n",
       "      <th>3</th>\n",
       "      <td>Tamil Nadu</td>\n",
       "      <td>431928644</td>\n",
       "      <td>5916658</td>\n",
       "      <td>404095807</td>\n",
       "      <td>93.56</td>\n",
       "    </tr>\n",
       "    <tr>\n",
       "      <th>4</th>\n",
       "      <td>Andhra Pradesh</td>\n",
       "      <td>392432753</td>\n",
       "      <td>2939367</td>\n",
       "      <td>370426530</td>\n",
       "      <td>94.39</td>\n",
       "    </tr>\n",
       "    <tr>\n",
       "      <th>5</th>\n",
       "      <td>Uttar Pradesh</td>\n",
       "      <td>312625843</td>\n",
       "      <td>4143450</td>\n",
       "      <td>291479351</td>\n",
       "      <td>93.24</td>\n",
       "    </tr>\n",
       "    <tr>\n",
       "      <th>6</th>\n",
       "      <td>Delhi</td>\n",
       "      <td>287227765</td>\n",
       "      <td>4943294</td>\n",
       "      <td>273419887</td>\n",
       "      <td>95.19</td>\n",
       "    </tr>\n",
       "    <tr>\n",
       "      <th>7</th>\n",
       "      <td>West Bengal</td>\n",
       "      <td>263107876</td>\n",
       "      <td>3846989</td>\n",
       "      <td>247515102</td>\n",
       "      <td>94.07</td>\n",
       "    </tr>\n",
       "    <tr>\n",
       "      <th>8</th>\n",
       "      <td>Chhattisgarh</td>\n",
       "      <td>163776262</td>\n",
       "      <td>2063920</td>\n",
       "      <td>151609364</td>\n",
       "      <td>92.57</td>\n",
       "    </tr>\n",
       "    <tr>\n",
       "      <th>9</th>\n",
       "      <td>Rajasthan</td>\n",
       "      <td>162369656</td>\n",
       "      <td>1473089</td>\n",
       "      <td>150356820</td>\n",
       "      <td>92.60</td>\n",
       "    </tr>\n",
       "    <tr>\n",
       "      <th>10</th>\n",
       "      <td>Odisha</td>\n",
       "      <td>160130533</td>\n",
       "      <td>790814</td>\n",
       "      <td>150923455</td>\n",
       "      <td>94.25</td>\n",
       "    </tr>\n",
       "    <tr>\n",
       "      <th>11</th>\n",
       "      <td>Gujarat</td>\n",
       "      <td>143420082</td>\n",
       "      <td>2219448</td>\n",
       "      <td>132487127</td>\n",
       "      <td>92.38</td>\n",
       "    </tr>\n",
       "    <tr>\n",
       "      <th>12</th>\n",
       "      <td>Madhya Pradesh</td>\n",
       "      <td>135625265</td>\n",
       "      <td>1777752</td>\n",
       "      <td>126724997</td>\n",
       "      <td>93.44</td>\n",
       "    </tr>\n",
       "    <tr>\n",
       "      <th>13</th>\n",
       "      <td>Haryana</td>\n",
       "      <td>134347285</td>\n",
       "      <td>1502799</td>\n",
       "      <td>126585342</td>\n",
       "      <td>94.22</td>\n",
       "    </tr>\n",
       "    <tr>\n",
       "      <th>14</th>\n",
       "      <td>Bihar</td>\n",
       "      <td>132231166</td>\n",
       "      <td>1093466</td>\n",
       "      <td>125122902</td>\n",
       "      <td>94.62</td>\n",
       "    </tr>\n",
       "  </tbody>\n",
       "</table>\n",
       "</div>"
      ],
      "text/plain": [
       "             state   Confirmed    Deaths       Cured  percentage of recover\n",
       "0      Maharashtra  1121491467  23737432  1018765039                  90.84\n",
       "1        Karnataka   485970693   6053762   441844360                  90.92\n",
       "2           Kerala   458906023   1888177   420174235                  91.56\n",
       "3       Tamil Nadu   431928644   5916658   404095807                  93.56\n",
       "4   Andhra Pradesh   392432753   2939367   370426530                  94.39\n",
       "5    Uttar Pradesh   312625843   4143450   291479351                  93.24\n",
       "6            Delhi   287227765   4943294   273419887                  95.19\n",
       "7      West Bengal   263107876   3846989   247515102                  94.07\n",
       "8     Chhattisgarh   163776262   2063920   151609364                  92.57\n",
       "9        Rajasthan   162369656   1473089   150356820                  92.60\n",
       "10          Odisha   160130533    790814   150923455                  94.25\n",
       "11         Gujarat   143420082   2219448   132487127                  92.38\n",
       "12  Madhya Pradesh   135625265   1777752   126724997                  93.44\n",
       "13         Haryana   134347285   1502799   126585342                  94.22\n",
       "14           Bihar   132231166   1093466   125122902                  94.62"
      ]
     },
     "execution_count": 20,
     "metadata": {},
     "output_type": "execute_result"
    }
   ],
   "source": [
    "deaths = covid.groupby('state')['Deaths'].sum().sort_values(ascending=False)\n",
    "cured = covid.groupby('state')['Cured'].sum().sort_values(ascending=False)\n",
    "confirm = covid.groupby('state')['Confirmed'].sum().sort_values(ascending=False)\n",
    "stats =  pd.concat([confirm,deaths,cured],axis=1).fillna(0)\n",
    "stats['percentage of recover'] = round(stats['Cured']/stats['Confirmed']*100,2)\n",
    "stats = stats.rename_axis('state').reset_index().head(15)\n",
    "stats"
   ]
  },
  {
   "cell_type": "markdown",
   "id": "2448525d",
   "metadata": {
    "papermill": {
     "duration": 0.015453,
     "end_time": "2024-08-07T04:56:42.131394",
     "exception": false,
     "start_time": "2024-08-07T04:56:42.115941",
     "status": "completed"
    },
    "tags": []
   },
   "source": [
    "-----------------------"
   ]
  },
  {
   "cell_type": "markdown",
   "id": "09fe3580",
   "metadata": {
    "papermill": {
     "duration": 0.015809,
     "end_time": "2024-08-07T04:56:42.162668",
     "exception": false,
     "start_time": "2024-08-07T04:56:42.146859",
     "status": "completed"
    },
    "tags": []
   },
   "source": [
    "> # TO PLOT PERCENTAGE OF RECOVERY BY STATES"
   ]
  },
  {
   "cell_type": "code",
   "execution_count": 21,
   "id": "2e090e02",
   "metadata": {
    "execution": {
     "iopub.execute_input": "2024-08-07T04:56:42.195850Z",
     "iopub.status.busy": "2024-08-07T04:56:42.195050Z",
     "iopub.status.idle": "2024-08-07T04:56:42.520543Z",
     "shell.execute_reply": "2024-08-07T04:56:42.519293Z"
    },
    "papermill": {
     "duration": 0.344101,
     "end_time": "2024-08-07T04:56:42.522758",
     "exception": false,
     "start_time": "2024-08-07T04:56:42.178657",
     "status": "completed"
    },
    "tags": []
   },
   "outputs": [
    {
     "data": {
      "image/png": "[encoded data removed]",
      "text/plain": [
       "<Figure size 640x480 with 1 Axes>"
      ]
     },
     "metadata": {},
     "output_type": "display_data"
    }
   ],
   "source": [
    "snb.barplot(x='percentage of recover',y='state',data=stats,orient='h')\n",
    "plt.title('PERCENTAGE OF RECOVERY',fontsize=16)\n",
    "plt.show()"
   ]
  },
  {
   "cell_type": "code",
   "execution_count": null,
   "id": "41929c7b",
   "metadata": {},
   "outputs": [],
   "source": []
  }
 ],
 "metadata": {
  "kaggle": {
   "accelerator": "none",
   "dataSources": [
    {
     "datasetId": 557629,
     "sourceId": 2516524,
     "sourceType": "datasetVersion"
    }
   ],
   "dockerImageVersionId": 30746,
   "isGpuEnabled": false,
   "isInternetEnabled": false,
   "language": "python",
   "sourceType": "notebook"
  },
  "kernelspec": {
   "display_name": "Python 3",
   "language": "python",
   "name": "python3"
  },
  "language_info": {
   "codemirror_mode": {
    "name": "ipython",
    "version": 3
   },
   "file_extension": ".py",
   "mimetype": "text/x-python",
   "name": "python",
   "nbconvert_exporter": "python",
   "pygments_lexer": "ipython3",
   "version": "3.12.4"
  },
  "papermill": {
   "default_parameters": {},
   "duration": 9.798801,
   "end_time": "2024-08-07T04:56:43.290590",
   "environment_variables": {},
   "exception": null,
   "input_path": "__notebook__.ipynb",
   "output_path": "__notebook__.ipynb",
   "parameters": {},
   "start_time": "2024-08-07T04:56:33.491789",
   "version": "2.5.0"
  }
 },
 "nbformat": 4,
 "nbformat_minor": 5
}
