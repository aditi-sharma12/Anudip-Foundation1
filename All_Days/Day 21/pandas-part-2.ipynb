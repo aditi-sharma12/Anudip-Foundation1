{
 "cells": [
  {
   "cell_type": "code",
   "execution_count": 5,
   "metadata": {},
   "outputs": [
    {
     "name": "stdout",
     "output_type": "stream",
     "text": [
      "Before adding new row:\n",
      "      name  age  gender\n",
      "0    alice   20    male\n",
      "1      bob   21    male\n",
      "2  charlie   22  female\n",
      "3     dave   23    male\n",
      "\n",
      "After adding new row:\n",
      "      name  age  gender\n",
      "0    alice   20    male\n",
      "1      bob   21    male\n",
      "2  charlie   22  female\n",
      "3     dave   23    male\n",
      "4      Eve   28  female\n",
      "5    David   29    male\n",
      "6      Bob   30    male\n"
     ]
    }
   ],
   "source": [
    "import pandas as pd\n",
    "\n",
    "data = {\n",
    "    'name' : [\"alice\", \"bob\", \"charlie\", \"dave\"],\n",
    "    'age' : [20, 21, 22, 23],\n",
    "    'gender' : [\"male\", \"male\", \"female\", \"male\"]\n",
    "}\n",
    "\n",
    "print(\"Before adding new row:\")\n",
    "df = pd.DataFrame(data)\n",
    "print(df)\n",
    "\n",
    "# new__row = pd.DataFrame({\n",
    "#     'name': ['Eve', 'David', 'Bob'], \n",
    "#     'age': [28, 29, 30],\n",
    "#     'gender': ['female', 'male','male']\n",
    "#     })\n",
    "\n",
    "new__row = pd.DataFrame([\n",
    "    {'name': 'Eve', 'age': 28, 'gender': 'female'},\n",
    "    {'name': 'David', 'age': 29, 'gender':'male'},\n",
    "    {'name': 'Bob', 'age': 30, 'gender':'male'}\n",
    "])\n",
    "df = pd.concat([df, new__row], ignore_index=True)\n",
    "\n",
    "print(\"\\nAfter adding new row:\")\n",
    "print(df)\n"
   ]
  },
  {
   "cell_type": "code",
   "execution_count": 7,
   "metadata": {},
   "outputs": [
    {
     "name": "stdout",
     "output_type": "stream",
     "text": [
      "Before rename:\n",
      "      name  age  gender\n",
      "0    alice   20    male\n",
      "1      bob   21    male\n",
      "2  charlie   22  female\n",
      "3     dave   23    male\n",
      "After rename:\n",
      "  First Name  age  gender\n",
      "0      alice   20    male\n",
      "1        bob   21    male\n",
      "2    charlie   22  female\n",
      "3       dave   23    male\n",
      "4        eve   24  female\n"
     ]
    }
   ],
   "source": [
    "import pandas as pd\n",
    "\n",
    "data = {\n",
    "    'name' : [\"alice\", \"bob\", \"charlie\", \"dave\"],\n",
    "    'age' : [20, 21, 22, 23],\n",
    "    'gender' : [\"male\", \"male\", \"female\", \"male\"]\n",
    "}\n",
    "\n",
    "print(\"Before rename:\")\n",
    "df = pd.DataFrame(data)\n",
    "print(df)\n",
    "new__row = {'name': 'eve', 'age': 24, 'gender': 'female'}\n",
    "\n",
    "df.loc[len(df)] = new__row\n",
    "df = df.rename(columns={'name': 'First Name'})\n",
    "\n",
    "print(\"After rename:\")\n",
    "print(df)"
   ]
  },
  {
   "cell_type": "code",
   "execution_count": 23,
   "metadata": {},
   "outputs": [
    {
     "name": "stdout",
     "output_type": "stream",
     "text": [
      "Before rename:\n",
      "      name  age  gender\n",
      "0    alice   20    male\n",
      "1      bob   21    male\n",
      "2  charlie   22  female\n",
      "3     dave   23    male\n",
      "After rename:\n",
      "  First Name  Student Age Student Gender\n",
      "0      alice           20           male\n",
      "1        bob           21           male\n",
      "2    charlie           22         female\n",
      "3       dave           23           male\n",
      "4        eve           24         female\n"
     ]
    }
   ],
   "source": [
    "import pandas as pd\n",
    "\n",
    "data = {\n",
    "    'name' : [\"alice\", \"bob\", \"charlie\", \"dave\"],\n",
    "    'age' : [20, 21, 22, 23],\n",
    "    'gender' : [\"male\", \"male\", \"female\", \"male\"]\n",
    "}\n",
    "\n",
    "print(\"Before rename:\")\n",
    "df = pd.DataFrame(data)\n",
    "print(df)\n",
    "new__row = {'name': 'eve', 'age': 24, 'gender': 'female'}\n",
    "\n",
    "df.loc[len(df)] = new__row\n",
    "df = df.rename(columns={'name': 'First Name', 'age': 'Student Age', 'gender': 'Student Gender'})\n",
    "\n",
    "print(\"After rename:\")\n",
    "print(df)"
   ]
  },
  {
   "cell_type": "code",
   "execution_count": 14,
   "metadata": {},
   "outputs": [
    {
     "name": "stdout",
     "output_type": "stream",
     "text": [
      "Before addition of elements:\n",
      "      name  age  gender\n",
      "0    alice   20    male\n",
      "1      bob   21    male\n",
      "2  charlie   22  female\n",
      "3     dave   23    male\n",
      "After addition of elements:\n",
      "      name  age  gender\n",
      "0    alice   20    male\n",
      "1      bob   21    male\n",
      "2  charlie   22  female\n",
      "3     dave   23    male\n",
      "4      eve   24  female\n"
     ]
    }
   ],
   "source": [
    "import pandas as pd\n",
    "\n",
    "data = {\n",
    "    'name' : [\"alice\", \"bob\", \"charlie\", \"dave\"],\n",
    "    'age' : [20, 21, 22, 23],\n",
    "    'gender' : [\"male\", \"male\", \"female\", \"male\"]\n",
    "}\n",
    "\n",
    "print(\"Before addition of elements:\")\n",
    "df = pd.DataFrame(data)\n",
    "print(df)\n",
    "new__row = {'name': 'eve', 'age': 24, 'gender': 'female'}\n",
    "\n",
    "df.loc[len(df)] = new__row\n",
    "print(\"After addition of elements:\")\n",
    "print(df)"
   ]
  },
  {
   "cell_type": "code",
   "execution_count": 19,
   "metadata": {},
   "outputs": [
    {
     "name": "stdout",
     "output_type": "stream",
     "text": [
      "Before addition of elements:\n",
      "      name  age  gender\n",
      "0    alice   20    male\n",
      "1      bob   21    male\n",
      "2  charlie   22  female\n",
      "3     dave   23    male\n",
      "1 column display\n",
      "name       bob\n",
      "age         21\n",
      "gender    male\n",
      "Name: 1, dtype: object\n",
      "      name  age  gender\n",
      "0    alice   20    male\n",
      "1      bob   21    male\n",
      "2  charlie   22  female\n",
      "3     dave   23    male \n",
      "\n",
      "      name   age  gender\n",
      "0    alice  20.0    male\n",
      "1   sanjay   NaN     NaN\n",
      "2  charlie  22.0  female\n",
      "3     dave  23.0    male\n"
     ]
    }
   ],
   "source": [
    "import pandas as pd\n",
    "\n",
    "data = {\n",
    "    'name' : [\"alice\", \"bob\", \"charlie\", \"dave\"],\n",
    "    'age' : [20, 21, 22, 23],\n",
    "    'gender' : [\"male\", \"male\", \"female\", \"male\"]\n",
    "}\n",
    "\n",
    "print(\"Before addition of elements:\")\n",
    "df = pd.DataFrame(data)\n",
    "print(df)\n",
    "new__row = {'name': 'eve', 'age': 24, 'gender': 'female'}\n",
    "\n",
    "print(\"1 column display\")\n",
    "print(df.loc[1])\n",
    "\n",
    "# print in lower case\n",
    "df.columns = df.columns.str.lower()\n",
    "print(df, \"\\n\")\n",
    "\n",
    "df.loc[1] = {'name': 'sanjay'}\n",
    "print(df)\n",
    "\n"
   ]
  },
  {
   "cell_type": "code",
   "execution_count": 22,
   "metadata": {},
   "outputs": [
    {
     "name": "stdout",
     "output_type": "stream",
     "text": [
      "original data\n",
      "    fruit   color  price\n",
      "0   apple     red     45\n",
      "1  banana  yellow     50\n",
      "2  cherry  purple     20\n",
      "3   apple   green     30\n",
      "4  banana  yellow     25\n",
      "1\n",
      "\n",
      "data after adding remarks\n",
      "    fruit   color  price    remarks\n",
      "0   apple     red     45  Expensive\n",
      "1  banana  yellow     50  Expensive\n",
      "2  cherry  purple     20      Cheap\n",
      "3   apple   green     30      Cheap\n",
      "4  banana  yellow     25      Cheap\n"
     ]
    }
   ],
   "source": [
    "import pandas as pd\n",
    "\n",
    "fruit_data = {\n",
    "    'fruit': ['apple', 'banana', 'cherry', 'apple', 'banana'],\n",
    "    'color': ['red', 'yellow', 'purple', 'green', 'yellow'],\n",
    "    'price': [45, 50, 20, 30, 25]\n",
    "}\n",
    "\n",
    "data = pd.DataFrame(fruit_data) \n",
    "print(\"original data\")\n",
    "print(data)\n",
    "\n",
    "data.loc[data['price'] > 30, 'remarks'] = 'Expensive'\n",
    "data.loc[data['price'] <= 30,'remarks'] = 'Cheap'\n",
    "print(\"\\ndata after adding remarks\")\n",
    "print(data)"
   ]
  },
  {
   "cell_type": "code",
   "execution_count": 24,
   "metadata": {},
   "outputs": [
    {
     "name": "stdout",
     "output_type": "stream",
     "text": [
      "Before deletion:\n",
      "      name  age  gender\n",
      "0    alice   20    male\n",
      "1      bob   21    male\n",
      "2  charlie   22  female\n",
      "3     dave   23    male\n",
      "After deletion:\n",
      "    name  age gender\n",
      "0  alice   20   male\n",
      "1    bob   21   male\n",
      "3   dave   23   male\n"
     ]
    }
   ],
   "source": [
    "import pandas as pd\n",
    "\n",
    "data = {\n",
    "    'name' : [\"alice\", \"bob\", \"charlie\", \"dave\"],\n",
    "    'age' : [20, 21, 22, 23],\n",
    "    'gender' : [\"male\", \"male\", \"female\", \"male\"]\n",
    "}\n",
    "\n",
    "print(\"Before deletion:\")\n",
    "df = pd.DataFrame(data)\n",
    "print(df)\n",
    "\n",
    "element_to_delete = \"charlie\"\n",
    "\n",
    "df = df.loc[df.name != element_to_delete]\n",
    "print(\"After deletion:\")\n",
    "print(df)"
   ]
  },
  {
   "cell_type": "code",
   "execution_count": 28,
   "metadata": {},
   "outputs": [
    {
     "name": "stdout",
     "output_type": "stream",
     "text": [
      "Before deletion of photo column:\n",
      "      name  age  gender photo\n",
      "0    alice   20    male  img1\n",
      "1      bob   21    male  img2\n",
      "2  charlie   22  female  img3\n",
      "3     dave   23    male  img4\n",
      "After deletion of photo column:\n",
      "      name  age  gender\n",
      "0    alice   20    male\n",
      "1      bob   21    male\n",
      "2  charlie   22  female\n",
      "3     dave   23    male\n"
     ]
    }
   ],
   "source": [
    "import pandas as pd\n",
    "\n",
    "data = {\n",
    "    'name' : [\"alice\", \"bob\", \"charlie\", \"dave\"],\n",
    "    'age' : [20, 21, 22, 23],\n",
    "    'gender' : [\"male\", \"male\", \"female\", \"male\"],\n",
    "    'photo' : [\"img1\", \"img2\", \"img3\", \"img4\"]\n",
    "}\n",
    "\n",
    "print(\"Before deletion of photo column:\")\n",
    "df = pd.DataFrame(data)\n",
    "print(df)\n",
    "\n",
    "df = df.drop('photo', axis=1)\n",
    "print(\"After deletion of photo column:\")\n",
    "print(df)"
   ]
  },
  {
   "cell_type": "code",
   "execution_count": 29,
   "metadata": {},
   "outputs": [
    {
     "name": "stdout",
     "output_type": "stream",
     "text": [
      "Before deletion of rows:\n",
      "      name  age  gender photo\n",
      "0    alice   20    male  img1\n",
      "1      bob   21    male  img2\n",
      "2  charlie   22  female  img3\n",
      "3     dave   23    male  img4\n",
      "After deletion of rows:\n",
      "      name  age  gender photo\n",
      "0    alice   20    male  img1\n",
      "2  charlie   22  female  img3\n",
      "3     dave   23    male  img4\n"
     ]
    }
   ],
   "source": [
    "import pandas as pd\n",
    "\n",
    "data = {\n",
    "    'name' : [\"alice\", \"bob\", \"charlie\", \"dave\"],\n",
    "    'age' : [20, 21, 22, 23],\n",
    "    'gender' : [\"male\", \"male\", \"female\", \"male\"],\n",
    "    'photo' : [\"img1\", \"img2\", \"img3\", \"img4\"]\n",
    "}\n",
    "\n",
    "print(\"Before deletion of rows:\")\n",
    "df = pd.DataFrame(data)\n",
    "print(df)\n",
    "\n",
    "df = df[df.photo != \"img2\"] \n",
    "print(\"After deletion of rows:\")\n",
    "print(df)"
   ]
  },
  {
   "cell_type": "code",
   "execution_count": 38,
   "metadata": {},
   "outputs": [
    {
     "name": "stdout",
     "output_type": "stream",
     "text": [
      "Before deletion of column:\n",
      "      name  age  gender photo\n",
      "0    alice   20    male  img1\n",
      "1      bob   21    male  img2\n",
      "2  charlie   22  female  img3\n",
      "3     dave   23    male  img4\n",
      "\n",
      "After deletion of column:\n",
      "      name photo\n",
      "0    alice  img1\n",
      "1      bob  img2\n",
      "2  charlie  img3\n",
      "3     dave  img4\n"
     ]
    }
   ],
   "source": [
    "import pandas as pd\n",
    "\n",
    "data = {\n",
    "    'name' : [\"alice\", \"bob\", \"charlie\", \"dave\"],\n",
    "    'age' : [20, 21, 22, 23],\n",
    "    'gender' : [\"male\", \"male\", \"female\", \"male\"],\n",
    "    'photo' : [\"img1\", \"img2\", \"img3\", \"img4\"]\n",
    "}\n",
    "\n",
    "print(\"Before deletion of column:\")\n",
    "df = pd.DataFrame(data)\n",
    "print(df)\n",
    "\n",
    "df.pop('age')\n",
    "del df['gender']\n",
    "print(\"\\nAfter deletion of column:\")\n",
    "print(df)\n"
   ]
  },
  {
   "cell_type": "code",
   "execution_count": 33,
   "metadata": {},
   "outputs": [
    {
     "name": "stdout",
     "output_type": "stream",
     "text": [
      "   a  b\n",
      "0  1  4\n",
      "1  2  5\n",
      "2  3  6\n",
      "   a  b  sum\n",
      "0  1  4    5\n",
      "1  2  5    7\n",
      "2  3  6    9\n",
      "   a  b  sum  sub\n",
      "0  1  4    5   -3\n",
      "1  2  5    7   -3\n",
      "2  3  6    9   -3\n",
      "   a  b  sum  sub  mul\n",
      "0  1  4    5   -3    4\n",
      "1  2  5    7   -3   10\n",
      "2  3  6    9   -3   18\n"
     ]
    }
   ],
   "source": [
    "import pandas as pd\n",
    "\n",
    "data = {'a': [1, 2, 3], 'b': [4, 5, 6]}\n",
    "df = pd.DataFrame(data)\n",
    "print(df)\n",
    "df['sum'] = df['a'] + df['b']   \n",
    "print(df)\n",
    "df['sub'] = df['a'] - df['b']\n",
    "print(df)\n",
    "df['mul'] = df['a'] * df['b']\n",
    "print(df)"
   ]
  },
  {
   "cell_type": "code",
   "execution_count": 34,
   "metadata": {},
   "outputs": [
    {
     "name": "stdout",
     "output_type": "stream",
     "text": [
      "Before customization:\n",
      "      name  age  gender photo\n",
      "0    alice   20    male  img1\n",
      "1      bob   21    male  img2\n",
      "2  charlie   22  female  img3\n",
      "3     dave   23    male  img4\n",
      "After customization:\n",
      "      name  age  gender\n",
      "0    alice   20    male\n",
      "1      bob   21    male\n",
      "2  charlie   22  female\n",
      "3     dave   23    male\n"
     ]
    }
   ],
   "source": [
    "import pandas as pd\n",
    "\n",
    "data = {\n",
    "    'name' : [\"alice\", \"bob\", \"charlie\", \"dave\"],\n",
    "    'age' : [20, 21, 22, 23],\n",
    "    'gender' : [\"male\", \"male\", \"female\", \"male\"],\n",
    "    'photo' : [\"img1\", \"img2\", \"img3\", \"img4\"]\n",
    "}\n",
    "\n",
    "print(\"Before customization:\")\n",
    "df = pd.DataFrame(data)\n",
    "print(df)\n",
    "\n",
    "print(\"After customization:\")\n",
    "print(df[[\"name\", \"age\", \"gender\"]])\n"
   ]
  },
  {
   "cell_type": "code",
   "execution_count": 42,
   "metadata": {},
   "outputs": [
    {
     "name": "stdout",
     "output_type": "stream",
     "text": [
      "Before addition of elements:\n",
      "      name  age  gender\n",
      "0    alice   20    male\n",
      "1      bob   21    male\n",
      "2  charlie   22  female\n",
      "3     dave   23    male\n",
      "After addition of elements:\n",
      "      name  age  gender\n",
      "0    alice   20    male\n",
      "1      eve   24  female\n",
      "2    frank   25    male\n",
      "3    grace   26  female\n",
      "4      bob   21    male\n",
      "5  charlie   22  female\n",
      "6     dave   23    male\n"
     ]
    }
   ],
   "source": [
    "import pandas as pd\n",
    "\n",
    "data = {\n",
    "    'name' : [\"alice\", \"bob\", \"charlie\", \"dave\"],\n",
    "    'age' : [20, 21, 22, 23],\n",
    "    'gender' : [\"male\", \"male\", \"female\", \"male\"]\n",
    "}\n",
    "\n",
    "print(\"Before addition of elements:\")\n",
    "df = pd.DataFrame(data)\n",
    "print(df)\n",
    "\n",
    "new__row = pd.DataFrame([\n",
    "    {'name' : \"eve\", 'age' : 24, 'gender' : \"female\"},\n",
    "    {'name' : \"frank\", 'age' : 25, 'gender' : \"male\"},\n",
    "    {'name' : \"grace\", 'age' : 26, 'gender' : \"female\"}\n",
    "])\n",
    "\n",
    "df = pd.concat([df.iloc[:1], new__row, df.iloc[1:]]).reset_index(drop=True)\n",
    "\n",
    "print(\"After addition of elements:\")\n",
    "print(df)"
   ]
  },
  {
   "cell_type": "code",
   "execution_count": null,
   "metadata": {},
   "outputs": [],
   "source": []
  }
 ],
 "metadata": {
  "kernelspec": {
   "display_name": "venv",
   "language": "python",
   "name": "python3"
  },
  "language_info": {
   "codemirror_mode": {
    "name": "ipython",
    "version": 3
   },
   "file_extension": ".py",
   "mimetype": "text/x-python",
   "name": "python",
   "nbconvert_exporter": "python",
   "pygments_lexer": "ipython3",
   "version": "3.12.4"
  }
 },
 "nbformat": 4,
 "nbformat_minor": 2
}
