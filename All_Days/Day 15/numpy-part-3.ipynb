{
 "cells": [
  {
   "cell_type": "code",
   "execution_count": 8,
   "metadata": {},
   "outputs": [
    {
     "name": "stdout",
     "output_type": "stream",
     "text": [
      "[1 2 3 4 5 6 7 8 9]\n"
     ]
    }
   ],
   "source": [
    "import numpy as np \n",
    "\n",
    "arr  = np.arange(1, 10)\n",
    "\n",
    "print(arr)"
   ]
  },
  {
   "cell_type": "code",
   "execution_count": 5,
   "metadata": {},
   "outputs": [
    {
     "name": "stdout",
     "output_type": "stream",
     "text": [
      "[ 1  2  3  4  5  6  7  8  9 10 11 12 13 14]\n",
      "[ 2  4  6  8 10 12 14]\n",
      "[ 1  3  5  7  9 11 13]\n",
      "[ 9 10 11 12 13 14]\n",
      "[ 2  4  6  8 10 12 14]\n"
     ]
    }
   ],
   "source": [
    "import numpy as np\n",
    "arr = np.arange(1, 15)\n",
    "print(arr)\n",
    "\n",
    "print(arr[arr % 2 == 0])\n",
    "print(arr[arr % 2 != 0])\n",
    "print(arr[arr > 8])\n",
    "print(arr[arr % 2 == 0])\n",
    "\n",
    "arr[arr % 2 == 0] = 0"
   ]
  },
  {
   "cell_type": "code",
   "execution_count": 6,
   "metadata": {},
   "outputs": [
    {
     "name": "stdout",
     "output_type": "stream",
     "text": [
      "[3 4 5 6 7 8 9]\n",
      "[ 2  4  6  8 10 12 14]\n",
      "[ 1  4  9 16 25 36 49]\n"
     ]
    }
   ],
   "source": [
    "import numpy as np\n",
    "arr = np.arange(1,8)\n",
    "\n",
    "print(arr + 2)\n",
    "print(arr * 2)\n",
    "print(arr ** 2)"
   ]
  },
  {
   "cell_type": "code",
   "execution_count": 10,
   "metadata": {},
   "outputs": [
    {
     "name": "stdout",
     "output_type": "stream",
     "text": [
      "minimum number in array :  2\n",
      "maximum number in array :  30\n",
      "index at which max number is present :  2\n",
      "index at which min number is present :  5\n",
      "square root of element in array :  [3.16227766 4.47213595 5.47722558 5.         2.44948974 1.41421356]\n",
      "standard deviation of each element in array 10.19395245558202\n",
      "variance of each element in array 103.91666666666667\n",
      "sin of element in array [-0.83907153  0.40808206  0.15425145  0.99120281  0.96017029 -0.41614684]\n",
      "cos of element in array [-0.83907153  0.40808206  0.15425145  0.99120281  0.96017029 -0.41614684]\n"
     ]
    }
   ],
   "source": [
    "import numpy as np\n",
    "\n",
    "arr = np.array([10, 20, 30 ,25, 6, 2])\n",
    "\n",
    "print(\"minimum number in array : \", np.min(arr))\n",
    "print(\"maximum number in array : \", np.max(arr))\n",
    "# print(\"\", np.min(arr, axis=0))\n",
    "# print(\"\", np.max(arr, axis=0))\n",
    "print(\"index at which max number is present : \", np.argmax(arr))\n",
    "print(\"index at which min number is present : \", np.argmin(arr))\n",
    "print(\"square root of element in array : \", np.sqrt(arr))\n",
    "print(\"standard deviation of each element in array\", np.std(arr))\n",
    "print(\"variance of each element in array\", np.var(arr))\n",
    "print(\"sin of element in array\", np.cos(arr))\n",
    "print(\"cos of element in array\", np.cos(arr))\n"
   ]
  },
  {
   "cell_type": "code",
   "execution_count": 12,
   "metadata": {},
   "outputs": [
    {
     "name": "stdout",
     "output_type": "stream",
     "text": [
      "[[ 3  6  2]\n",
      " [ 5 10  6]\n",
      " [ 3  2 18]]\n",
      "55\n",
      "[ 3  9 11 16 26 32 35 37 55]\n",
      "2\n",
      "18\n",
      "------------------------------\n",
      "[11 18 26]\n",
      "[11 21 23]\n",
      "[3 2 2]\n",
      "[2 5 2]\n",
      "[ 5 10 18]\n",
      "[ 6 10 18]\n",
      "[[ 3  6  2]\n",
      " [ 8 16  8]\n",
      " [11 18 26]]\n",
      "[[ 3  9 11]\n",
      " [ 5 15 21]\n",
      " [ 3  5 23]]\n"
     ]
    }
   ],
   "source": [
    "import numpy as np\n",
    "\n",
    "np.random.seed(12345)\n",
    "mat = np.random.randint(1, 21, 9).reshape(3, 3)\n",
    "print(\"mat : \", mat)\n",
    "print(\"sum\", np.sum(mat))\n",
    "print(np.cumsum(mat))\n",
    "print(np.min(mat))\n",
    "print(np.max(mat))\n",
    "print(\"------------------------------\")\n",
    "print(np.sum(mat, axis=0))\n",
    "print(np.sum(mat, axis=1))\n",
    "print(np.min(mat, axis=0))\n",
    "print(np.min(mat, axis=1))\n",
    "print(np.max(mat, axis=0))\n",
    "print(np.max(mat, axis=1))\n",
    "print(np.cumsum(mat, axis=0))\n",
    "print(np.cumsum(mat, axis=1))"
   ]
  },
  {
   "cell_type": "code",
   "execution_count": 46,
   "metadata": {},
   "outputs": [
    {
     "name": "stdout",
     "output_type": "stream",
     "text": [
      "[[1 2 3 4 5]\n",
      " [1 2 3 4 5]]\n",
      "30\n"
     ]
    }
   ],
   "source": [
    "import numpy as np\n",
    "def cumsum(arr):\n",
    "    sum = 0\n",
    "    \n",
    "    for i in arr:\n",
    "        for j in i:\n",
    "            sum += j\n",
    "    return sum\n",
    "\n",
    "\n",
    "arr = np.array([[1,2,3,4,5], [1,2,3,4,5]])\n",
    "# print(arr)\n",
    "s = cumsum(arr)\n",
    "print(s)"
   ]
  },
  {
   "cell_type": "code",
   "execution_count": 50,
   "metadata": {},
   "outputs": [
    {
     "name": "stdout",
     "output_type": "stream",
     "text": [
      "[[ 1  2  3  4  5]\n",
      " [ 6  7  8  9 10]]\n",
      "\n",
      "[[11 12 13 14 15]\n",
      " [16 17 18 19 20]]\n",
      "\n",
      "[[ 1  2  3  4  5]\n",
      " [ 6  7  8  9 10]\n",
      " [11 12 13 14 15]\n",
      " [16 17 18 19 20]]\n",
      "\n",
      "[[ 1  2  3  4  5 11 12 13 14 15]\n",
      " [ 6  7  8  9 10 16 17 18 19 20]]\n"
     ]
    }
   ],
   "source": [
    "import numpy as np\n",
    "\n",
    "arr1 = np.array([[1, 2, 3, 4, 5], [6, 7, 8, 9, 10]])\n",
    "arr2 = np.array([[11, 12, 13, 14, 15], [16, 17, 18, 19, 20]])\n",
    "\n",
    "print(arr1)\n",
    "print()\n",
    "print(arr2)\n",
    "print()\n",
    "print(np.vstack((arr1, arr2)))\n",
    "print()\n",
    "print(np.hstack((arr1, arr2)))  \n"
   ]
  },
  {
   "cell_type": "code",
   "execution_count": 52,
   "metadata": {},
   "outputs": [
    {
     "name": "stdout",
     "output_type": "stream",
     "text": [
      "[[14  3  3]\n",
      " [ 7 18 20]\n",
      " [11  2  1]]\n",
      "\n",
      "[[67 65 59]\n",
      " [50 64 50]\n",
      " [65 69 64]]\n",
      "\n",
      "[[14  3  3]\n",
      " [ 7 18 20]\n",
      " [11  2  1]\n",
      " [67 65 59]\n",
      " [50 64 50]\n",
      " [65 69 64]]\n",
      "\n",
      "[[14  3  3 67 65 59]\n",
      " [ 7 18 20 50 64 50]\n",
      " [11  2  1 65 69 64]]\n"
     ]
    }
   ],
   "source": [
    "import numpy as np\n",
    "\n",
    "np.random.seed(123)\n",
    "arr1 = np.random.randint(1, 21, 9).reshape(3, 3)\n",
    "arr2 = np.random.randint(50, 71, 9).reshape(3, 3)\n",
    "\n",
    "print(arr1)\n",
    "print()\n",
    "print(arr2)\n",
    "print()\n",
    "print(np.vstack((arr1, arr2)))\n",
    "print()\n",
    "print(np.hstack((arr1, arr2)))  \n"
   ]
  },
  {
   "cell_type": "code",
   "execution_count": null,
   "metadata": {},
   "outputs": [
    {
     "name": "stdout",
     "output_type": "stream",
     "text": [
      "mat : \n",
      " [[ 3  6  2]\n",
      " [ 5 10  6]\n",
      " [ 3  2 18]]\n",
      "shuffled mat : \n",
      " [[ 3  6  2]\n",
      " [ 5 10  6]\n",
      " [ 3  2 18]]\n",
      "(array([ 2,  3,  5,  6, 10, 18], dtype=int32), array([2, 0, 3, 1, 4, 8]))\n",
      "(array([ 2,  3,  5,  6, 10, 18], dtype=int32), array([2, 0, 3, 1, 4, 8]), array([2, 2, 1, 2, 1, 1]))\n",
      "6\n"
     ]
    }
   ],
   "source": [
    "import numpy as np\n",
    "\n",
    "np.random.seed(12345)\n",
    "mat = np.random.randint(1, 21, 9).reshape(3, 3)\n",
    "print(\"mat : \\n\", mat)\n",
    "\n",
    "np.random.shuffle(mat)\n",
    "print(\"shuffled mat : \\n\", mat)\n",
    "# print(np.unique(mat, return_index=True))\n",
    "print(np.unique(mat, return_index=True, return_counts=True))\n",
    "print(np.unique(mat).size)"
   ]
  },
  {
   "cell_type": "code",
   "execution_count": null,
   "metadata": {},
   "outputs": [
    {
     "name": "stdout",
     "output_type": "stream",
     "text": [
      "mat : \n",
      " [[ 3  6  2]\n",
      " [ 5 10  6]\n",
      " [ 3  2 18]]\n",
      "shuffled mat : \n",
      " [[ 3  6  2]\n",
      " [ 5 10  6]\n",
      " [ 3  2 18]]\n",
      "(array([ 2,  3,  5,  6, 10, 18], dtype=int32), array([2, 0, 3, 1, 4, 8]))\n",
      "(array([ 2,  3,  5,  6, 10, 18], dtype=int32), array([2, 0, 3, 1, 4, 8]), array([2, 2, 1, 2, 1, 1]))\n",
      "6\n"
     ]
    }
   ],
   "source": [
    "import numpy as np\n",
    "\n",
    "np.random.seed(12345)\n",
    "mat = np.random.randint(1, 21, 9).reshape(3, 3)\n",
    "print(\"mat : \\n\", mat)\n",
    "\n",
    "np.random.shuffle(mat)\n",
    "print(\"shuffled mat : \\n\", mat)\n",
    "# print(np.unique(mat, return_index=True))\n",
    "print(np.unique(mat, return_index=True, return_counts=True))\n",
    "print(np.unique(mat).size)"
   ]
  },
  {
   "cell_type": "code",
   "execution_count": null,
   "metadata": {},
   "outputs": [],
   "source": []
  }
 ],
 "metadata": {
  "kernelspec": {
   "display_name": "venv",
   "language": "python",
   "name": "python3"
  },
  "language_info": {
   "codemirror_mode": {
    "name": "ipython",
    "version": 3
   },
   "file_extension": ".py",
   "mimetype": "text/x-python",
   "name": "python",
   "nbconvert_exporter": "python",
   "pygments_lexer": "ipython3",
   "version": "3.12.4"
  }
 },
 "nbformat": 4,
 "nbformat_minor": 2
}
