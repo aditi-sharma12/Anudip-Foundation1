{
 "cells": [
  {
   "cell_type": "code",
   "execution_count": 21,
   "metadata": {},
   "outputs": [
    {
     "name": "stdout",
     "output_type": "stream",
     "text": [
      "Handedness  Left-handed  Right-handed  All\n",
      "Gender                                    \n",
      "Female                1             1    2\n",
      "Male                  1             2    3\n",
      "All                   2             3    5\n"
     ]
    }
   ],
   "source": [
    "import pandas as pd \n",
    "\n",
    "df = pd.DataFrame({\n",
    "    'Gender': ['Male', 'Female', 'Female', 'Male', 'Male'],\n",
    "    'Handedness': ['Right-handed', 'Left-handed', 'Right-handed', 'Right-handed', 'Left-handed']\n",
    "})\n",
    "df_crosstab = pd.crosstab(df['Gender'], df['Handedness'], margins=True, index='Gender')#, columns='Handedness')\n",
    "print(df_crosstab)\n",
    "# df"
   ]
  },
  {
   "cell_type": "code",
   "execution_count": 11,
   "metadata": {},
   "outputs": [
    {
     "data": {
      "text/html": [
       "<div>\n",
       "<style scoped>\n",
       "    .dataframe tbody tr th:only-of-type {\n",
       "        vertical-align: middle;\n",
       "    }\n",
       "\n",
       "    .dataframe tbody tr th {\n",
       "        vertical-align: top;\n",
       "    }\n",
       "\n",
       "    .dataframe thead tr th {\n",
       "        text-align: left;\n",
       "    }\n",
       "\n",
       "    .dataframe thead tr:last-of-type th {\n",
       "        text-align: right;\n",
       "    }\n",
       "</style>\n",
       "<table border=\"1\" class=\"dataframe\">\n",
       "  <thead>\n",
       "    <tr>\n",
       "      <th>b</th>\n",
       "      <th colspan=\"2\" halign=\"left\">one</th>\n",
       "      <th colspan=\"2\" halign=\"left\">two</th>\n",
       "    </tr>\n",
       "    <tr>\n",
       "      <th>c</th>\n",
       "      <th>dull</th>\n",
       "      <th>shiny</th>\n",
       "      <th>dull</th>\n",
       "      <th>shiny</th>\n",
       "    </tr>\n",
       "    <tr>\n",
       "      <th>d</th>\n",
       "      <th></th>\n",
       "      <th></th>\n",
       "      <th></th>\n",
       "      <th></th>\n",
       "    </tr>\n",
       "  </thead>\n",
       "  <tbody>\n",
       "    <tr>\n",
       "      <th>bar</th>\n",
       "      <td>1</td>\n",
       "      <td>2</td>\n",
       "      <td>1</td>\n",
       "      <td>0</td>\n",
       "    </tr>\n",
       "    <tr>\n",
       "      <th>foo</th>\n",
       "      <td>2</td>\n",
       "      <td>2</td>\n",
       "      <td>1</td>\n",
       "      <td>2</td>\n",
       "    </tr>\n",
       "  </tbody>\n",
       "</table>\n",
       "</div>"
      ],
      "text/plain": [
       "b    one        two      \n",
       "c   dull shiny dull shiny\n",
       "d                        \n",
       "bar    1     2    1     0\n",
       "foo    2     2    1     2"
      ]
     },
     "execution_count": 11,
     "metadata": {},
     "output_type": "execute_result"
    }
   ],
   "source": [
    "# importing packages\n",
    "import pandas\n",
    "import numpy\n",
    "\n",
    "# creating some data\n",
    "a = numpy.array([\"foo\", \"foo\", \"foo\", \"foo\",\n",
    "                 \"bar\", \"bar\", \"bar\", \"bar\",\n",
    "                 \"foo\", \"foo\", \"foo\"],\n",
    "                dtype=object)\n",
    "\n",
    "b = numpy.array([\"one\", \"one\", \"one\", \"two\",\n",
    "                 \"one\", \"one\", \"one\", \"two\",\n",
    "                 \"two\", \"two\", \"one\"],\n",
    "                dtype=object)\n",
    "\n",
    "c = numpy.array([\"dull\", \"dull\", \"shiny\",\n",
    "                 \"dull\", \"dull\", \"shiny\",\n",
    "                 \"shiny\", \"dull\", \"shiny\",\n",
    "                 \"shiny\", \"shiny\"],\n",
    "                dtype=object)\n",
    "\n",
    "# form the cross tab\n",
    "pandas.crosstab(a, [b, c], rownames=['d'], colnames=['b', 'c'])\n",
    "# pandas.crosstab(a, [b, c])"
   ]
  },
  {
   "cell_type": "code",
   "execution_count": 14,
   "metadata": {},
   "outputs": [
    {
     "name": "stdout",
     "output_type": "stream",
     "text": [
      "col_0  d  e\n",
      "row_0      \n",
      "a      1  0\n",
      "b      0  1\n",
      "col_0  d  e  f\n",
      "row_0         \n",
      "a      1  0  0\n",
      "b      0  1  0\n",
      "c      0  0  0\n"
     ]
    }
   ],
   "source": [
    "# importing package\n",
    "import pandas\n",
    "\n",
    "# create some data\n",
    "foo = pandas.Categorical(['a', 'b'], \n",
    "                         categories=['a', 'b', 'c'])\n",
    "\n",
    "bar = pandas.Categorical(['d', 'e'], \n",
    "                         categories=['d', 'e', 'f'])\n",
    "\n",
    "# form crosstab with dropna=True (default)\n",
    "print(pandas.crosstab(foo, bar))\n",
    "\n",
    "# form crosstab with dropna=False\n",
    "print(pandas.crosstab(foo, bar, dropna=False))"
   ]
  },
  {
   "cell_type": "code",
   "execution_count": null,
   "metadata": {},
   "outputs": [],
   "source": []
  }
 ],
 "metadata": {
  "kernelspec": {
   "display_name": "venv",
   "language": "python",
   "name": "python3"
  },
  "language_info": {
   "codemirror_mode": {
    "name": "ipython",
    "version": 3
   },
   "file_extension": ".py",
   "mimetype": "text/x-python",
   "name": "python",
   "nbconvert_exporter": "python",
   "pygments_lexer": "ipython3",
   "version": "3.12.4"
  }
 },
 "nbformat": 4,
 "nbformat_minor": 2
}
