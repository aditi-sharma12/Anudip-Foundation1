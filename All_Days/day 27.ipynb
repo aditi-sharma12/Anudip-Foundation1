{
 "cells": [
  {
   "cell_type": "code",
   "execution_count": 8,
   "metadata": {},
   "outputs": [
    {
     "name": "stdout",
     "output_type": "stream",
     "text": [
      "Data inserted \n"
     ]
    }
   ],
   "source": [
    "import mysql.connector as my\n",
    "\n",
    "df=my.connect(\n",
    "    host=\"localhost\",\n",
    "    user=\"root\",\n",
    "    password=\"vdpwezweb4\",\n",
    "    port=3306,\n",
    "   database='Anudip_Internship'\n",
    ")\n",
    "cr=df.cursor()\n",
    "\n",
    "b=True\n",
    "while b:\n",
    "    cho=input(\"press i for insert\\n press u for update \\n press f for fetch \\n press e for exit \")\n",
    "\n",
    "    if cho==\"i\":\n",
    "        name=input(\"Enter your name : \")\n",
    "        age=int(input(\"Enter your age : \"))\n",
    "        city=input(\"Enter your city : \")\n",
    "        data=[name,age,city]\n",
    "        sql=\"insert into employees(name,age,city) values(%s,%s,%s)\"\n",
    "        cr.execute(sql,data)\n",
    "        df.commit()\n",
    "        print(\"Data inserted \")\n",
    "    if cho==\"u\":\n",
    "        id=int(input(\"Enter your id : \"))\n",
    "        name=input(\"Enter your name : \")\n",
    "        age=int(input(\"Enter your age : \"))\n",
    "        data=[name,age,id]\n",
    "        sql=\"update employees set name=%s,age=%s where id=%s\"\n",
    "        cr.execute(sql,data)\n",
    "        df.commit()\n",
    "        print(\"Data Updated \")\n",
    "    if cho==\"f\":\n",
    "        cr.execute(\"select * from employees\")\n",
    "        data=cr.fetchall()\n",
    "        for raw in data:\n",
    "            print(raw)\n",
    "    if cho==\"e\":\n",
    "        b=False\n",
    "\n",
    "df.close()"
   ]
  },
  {
   "cell_type": "code",
   "execution_count": 7,
   "metadata": {},
   "outputs": [],
   "source": [
    "import mysql.connector as my\n",
    "df=my.connect(\n",
    "  host=\"localhost\",\n",
    "  user=\"root\",\n",
    "  password=\"vdpwezweb4\",\n",
    "  port=3306,\n",
    "  database='Anudip_Internship'\n",
    ")\n",
    "cr=df.cursor()\n",
    "sql=\"create table employees(name varchar(20),age int,city varchar(20))\"\n",
    "cr.execute(sql)\n",
    "df.commit()"
   ]
  },
  {
   "cell_type": "code",
   "execution_count": null,
   "metadata": {},
   "outputs": [],
   "source": []
  }
 ],
 "metadata": {
  "kernelspec": {
   "display_name": "venv",
   "language": "python",
   "name": "python3"
  },
  "language_info": {
   "codemirror_mode": {
    "name": "ipython",
    "version": 3
   },
   "file_extension": ".py",
   "mimetype": "text/x-python",
   "name": "python",
   "nbconvert_exporter": "python",
   "pygments_lexer": "ipython3",
   "version": "3.12.4"
  }
 },
 "nbformat": 4,
 "nbformat_minor": 2
}
